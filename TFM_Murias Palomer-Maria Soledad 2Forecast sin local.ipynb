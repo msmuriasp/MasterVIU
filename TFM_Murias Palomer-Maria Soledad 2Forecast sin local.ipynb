{
 "cells": [
  {
   "cell_type": "markdown",
   "metadata": {
    "id": "gb7-PcmKLVjL"
   },
   "source": [
    "# **TRABAJO DE FIN DE MASTER - MASTER EN INTELIGENCIA ARTIFICIAL**\n",
    "**María Soledad Murias Palomer**\n",
    "\n",
    "El objetivo de este trabajo es crear un modelo que permita predecir la venta futura por tienda de una serie de productos y, a partir de ella, optimizar el inventario de cada tienda dadas ciertas restricciones de espacio y reposición."
   ]
  },
  {
   "cell_type": "markdown",
   "metadata": {
    "id": "qZvA-ooLI_YT"
   },
   "source": [
    "En el Notebook 2, se entrenarán modelos de forecast ARIMA y XGBoost con los datos generados en el Notebook 1. El modelo seleccionado será usado en los notebooks siguientes con el fin de poder optimizar el inventario de tiendas."
   ]
  },
  {
   "cell_type": "code",
   "execution_count": 1,
   "metadata": {
    "colab": {
     "base_uri": "https://localhost:8080/",
     "height": 809
    },
    "executionInfo": {
     "elapsed": 17761,
     "status": "error",
     "timestamp": 1743555731858,
     "user": {
      "displayName": "María Soledad Murias Palomer",
      "userId": "08750477303248371468"
     },
     "user_tz": 180
    },
    "id": "9w-P0WW8MZm6",
    "outputId": "d5c0891c-ea3d-48ba-d0f9-8e3f81465ec2"
   },
   "outputs": [
    {
     "name": "stderr",
     "output_type": "stream",
     "text": [
      "\n",
      "[notice] A new release of pip is available: 24.3.1 -> 25.0.1\n",
      "[notice] To update, run: python.exe -m pip install --upgrade pip\n"
     ]
    },
    {
     "name": "stdout",
     "output_type": "stream",
     "text": [
      "Requirement already satisfied: pmdarima in c:\\users\\smurias\\appdata\\local\\anaconda31\\lib\\site-packages (2.0.4)\n",
      "Requirement already satisfied: joblib>=0.11 in c:\\users\\smurias\\appdata\\local\\anaconda31\\lib\\site-packages (from pmdarima) (1.2.0)\n",
      "Requirement already satisfied: Cython!=0.29.18,!=0.29.31,>=0.29 in c:\\users\\smurias\\appdata\\local\\anaconda31\\lib\\site-packages (from pmdarima) (3.0.12)\n",
      "Requirement already satisfied: numpy>=1.21.2 in c:\\users\\smurias\\appdata\\local\\anaconda31\\lib\\site-packages (from pmdarima) (1.23.5)\n",
      "Requirement already satisfied: pandas>=0.19 in c:\\users\\smurias\\appdata\\local\\anaconda31\\lib\\site-packages (from pmdarima) (2.1.4)\n",
      "Requirement already satisfied: scikit-learn>=0.22 in c:\\users\\smurias\\appdata\\local\\anaconda31\\lib\\site-packages (from pmdarima) (1.2.2)\n",
      "Requirement already satisfied: scipy>=1.3.2 in c:\\users\\smurias\\appdata\\local\\anaconda31\\lib\\site-packages (from pmdarima) (1.11.4)\n",
      "Requirement already satisfied: statsmodels>=0.13.2 in c:\\users\\smurias\\appdata\\local\\anaconda31\\lib\\site-packages (from pmdarima) (0.14.0)\n",
      "Requirement already satisfied: urllib3 in c:\\users\\smurias\\appdata\\local\\anaconda31\\lib\\site-packages (from pmdarima) (2.0.7)\n",
      "Requirement already satisfied: setuptools!=50.0.0,>=38.6.0 in c:\\users\\smurias\\appdata\\local\\anaconda31\\lib\\site-packages (from pmdarima) (68.2.2)\n",
      "Requirement already satisfied: packaging>=17.1 in c:\\users\\smurias\\appdata\\local\\anaconda31\\lib\\site-packages (from pmdarima) (23.1)\n",
      "Requirement already satisfied: python-dateutil>=2.8.2 in c:\\users\\smurias\\appdata\\local\\anaconda31\\lib\\site-packages (from pandas>=0.19->pmdarima) (2.8.2)\n",
      "Requirement already satisfied: pytz>=2020.1 in c:\\users\\smurias\\appdata\\local\\anaconda31\\lib\\site-packages (from pandas>=0.19->pmdarima) (2023.3.post1)\n",
      "Requirement already satisfied: tzdata>=2022.1 in c:\\users\\smurias\\appdata\\local\\anaconda31\\lib\\site-packages (from pandas>=0.19->pmdarima) (2023.3)\n",
      "Requirement already satisfied: threadpoolctl>=2.0.0 in c:\\users\\smurias\\appdata\\local\\anaconda31\\lib\\site-packages (from scikit-learn>=0.22->pmdarima) (2.2.0)\n",
      "Requirement already satisfied: patsy>=0.5.2 in c:\\users\\smurias\\appdata\\local\\anaconda31\\lib\\site-packages (from statsmodels>=0.13.2->pmdarima) (0.5.3)\n",
      "Requirement already satisfied: six in c:\\users\\smurias\\appdata\\local\\anaconda31\\lib\\site-packages (from patsy>=0.5.2->statsmodels>=0.13.2->pmdarima) (1.16.0)\n",
      "Requirement already satisfied: xgboost in c:\\users\\smurias\\appdata\\local\\anaconda31\\lib\\site-packages (2.1.4)\n",
      "Requirement already satisfied: numpy in c:\\users\\smurias\\appdata\\local\\anaconda31\\lib\\site-packages (from xgboost) (1.23.5)\n",
      "Requirement already satisfied: scipy in c:\\users\\smurias\\appdata\\local\\anaconda31\\lib\\site-packages (from xgboost) (1.11.4)\n"
     ]
    },
    {
     "name": "stderr",
     "output_type": "stream",
     "text": [
      "\n",
      "[notice] A new release of pip is available: 24.3.1 -> 25.0.1\n",
      "[notice] To update, run: python.exe -m pip install --upgrade pip\n"
     ]
    }
   ],
   "source": [
    "# Importación de librerías\n",
    "import numpy as np\n",
    "import pandas as pd\n",
    "import matplotlib.pyplot as plt\n",
    "import seaborn as sns\n",
    "from sklearn.preprocessing import StandardScaler, LabelEncoder, MinMaxScaler, OneHotEncoder\n",
    "from sklearn.model_selection import train_test_split, GridSearchCV\n",
    "from sklearn import metrics\n",
    "from sklearn.metrics import r2_score, mean_squared_error, mean_absolute_error, mean_absolute_percentage_error\n",
    "\n",
    "import statsmodels.api as sm\n",
    "from statsmodels.tsa.stattools import adfuller\n",
    "!pip install pmdarima\n",
    "from pmdarima import auto_arima\n",
    "from statsmodels.tsa.arima.model import ARIMA\n",
    "\n",
    "!pip install xgboost\n",
    "import xgboost as xgb"
   ]
  },
  {
   "cell_type": "markdown",
   "metadata": {
    "id": "5RIr5sPoLfbD"
   },
   "source": [
    "## PRPARACIÓN DE DATOS\n",
    "\n"
   ]
  },
  {
   "cell_type": "code",
   "execution_count": 3,
   "metadata": {
    "executionInfo": {
     "elapsed": 56,
     "status": "aborted",
     "timestamp": 1743555731957,
     "user": {
      "displayName": "María Soledad Murias Palomer",
      "userId": "08750477303248371468"
     },
     "user_tz": 180
    },
    "id": "sZh5AHeyMpF-"
   },
   "outputs": [],
   "source": [
    "# Importación de datos\n",
    "file1 = \"dataframe.csv\" # Archivo con las columnas adicionales de One Hot Encoding\n",
    "data_stnd = pd.read_csv(file1)"
   ]
  },
  {
   "cell_type": "code",
   "execution_count": 4,
   "metadata": {
    "executionInfo": {
     "elapsed": 8,
     "status": "aborted",
     "timestamp": 1743555731960,
     "user": {
      "displayName": "María Soledad Murias Palomer",
      "userId": "08750477303248371468"
     },
     "user_tz": 180
    },
    "id": "JsStcJOT7rld"
   },
   "outputs": [
    {
     "data": {
      "text/html": [
       "<div>\n",
       "<style scoped>\n",
       "    .dataframe tbody tr th:only-of-type {\n",
       "        vertical-align: middle;\n",
       "    }\n",
       "\n",
       "    .dataframe tbody tr th {\n",
       "        vertical-align: top;\n",
       "    }\n",
       "\n",
       "    .dataframe thead th {\n",
       "        text-align: right;\n",
       "    }\n",
       "</style>\n",
       "<table border=\"1\" class=\"dataframe\">\n",
       "  <thead>\n",
       "    <tr style=\"text-align: right;\">\n",
       "      <th></th>\n",
       "      <th>Dia Sem</th>\n",
       "      <th>Sem del año</th>\n",
       "      <th>Uns</th>\n",
       "      <th>PrecioUnit</th>\n",
       "      <th>Feriado_FERIADO</th>\n",
       "      <th>Feriado_IRRENUNCIABLE</th>\n",
       "      <th>Feriado_NORMAL</th>\n",
       "      <th>Evento_DIAMADRE</th>\n",
       "      <th>Evento_DIAPADRE</th>\n",
       "      <th>Evento_DIECIOCHO</th>\n",
       "      <th>...</th>\n",
       "      <th>New_Cluster_GUANTE_ZAPATO_ZAPATILLA_ST</th>\n",
       "      <th>New_Cluster_GUANTE_ZAPATO_ZAPATO</th>\n",
       "      <th>New_Cluster_GUANTE_ZAPATO_ZAPATO_CASUAL_CT</th>\n",
       "      <th>New_Cluster_GUANTE_ZAPATO_ZAPATO_CASUAL_ST</th>\n",
       "      <th>New_Cluster_GUANTE_ZAPATO_ZAPATO_ESCOLAR</th>\n",
       "      <th>New_Cluster_GUANTE_ZAPATO_ZAPATO_FORMAL_CT</th>\n",
       "      <th>New_Cluster_GUANTE_ZAPATO_ZAPATO_FORMAL_ST</th>\n",
       "      <th>New_Cluster_GUANTE_ZAPATO_ZAPATO_INFORMAL_CT</th>\n",
       "      <th>New_Cluster_GUANTE_ZAPATO_ZAPATO_INFORMAL_ST</th>\n",
       "      <th>New_Cluster_GUANTE_ZAPATO_ZAPATO_OUTDOOR</th>\n",
       "    </tr>\n",
       "    <tr>\n",
       "      <th>Fecha</th>\n",
       "      <th></th>\n",
       "      <th></th>\n",
       "      <th></th>\n",
       "      <th></th>\n",
       "      <th></th>\n",
       "      <th></th>\n",
       "      <th></th>\n",
       "      <th></th>\n",
       "      <th></th>\n",
       "      <th></th>\n",
       "      <th></th>\n",
       "      <th></th>\n",
       "      <th></th>\n",
       "      <th></th>\n",
       "      <th></th>\n",
       "      <th></th>\n",
       "      <th></th>\n",
       "      <th></th>\n",
       "      <th></th>\n",
       "      <th></th>\n",
       "      <th></th>\n",
       "    </tr>\n",
       "  </thead>\n",
       "  <tbody>\n",
       "    <tr>\n",
       "      <th>2023-01-01</th>\n",
       "      <td>7</td>\n",
       "      <td>1</td>\n",
       "      <td>0</td>\n",
       "      <td>0.0</td>\n",
       "      <td>0.0</td>\n",
       "      <td>1.0</td>\n",
       "      <td>0.0</td>\n",
       "      <td>0.0</td>\n",
       "      <td>0.0</td>\n",
       "      <td>0.0</td>\n",
       "      <td>...</td>\n",
       "      <td>0.0</td>\n",
       "      <td>0.0</td>\n",
       "      <td>0.0</td>\n",
       "      <td>0.0</td>\n",
       "      <td>0.0</td>\n",
       "      <td>0.0</td>\n",
       "      <td>0.0</td>\n",
       "      <td>0.0</td>\n",
       "      <td>0.0</td>\n",
       "      <td>0.0</td>\n",
       "    </tr>\n",
       "    <tr>\n",
       "      <th>2023-01-01</th>\n",
       "      <td>7</td>\n",
       "      <td>1</td>\n",
       "      <td>0</td>\n",
       "      <td>0.0</td>\n",
       "      <td>0.0</td>\n",
       "      <td>1.0</td>\n",
       "      <td>0.0</td>\n",
       "      <td>0.0</td>\n",
       "      <td>0.0</td>\n",
       "      <td>0.0</td>\n",
       "      <td>...</td>\n",
       "      <td>0.0</td>\n",
       "      <td>0.0</td>\n",
       "      <td>0.0</td>\n",
       "      <td>0.0</td>\n",
       "      <td>0.0</td>\n",
       "      <td>0.0</td>\n",
       "      <td>0.0</td>\n",
       "      <td>0.0</td>\n",
       "      <td>0.0</td>\n",
       "      <td>0.0</td>\n",
       "    </tr>\n",
       "    <tr>\n",
       "      <th>2023-01-01</th>\n",
       "      <td>7</td>\n",
       "      <td>1</td>\n",
       "      <td>0</td>\n",
       "      <td>0.0</td>\n",
       "      <td>0.0</td>\n",
       "      <td>1.0</td>\n",
       "      <td>0.0</td>\n",
       "      <td>0.0</td>\n",
       "      <td>0.0</td>\n",
       "      <td>0.0</td>\n",
       "      <td>...</td>\n",
       "      <td>0.0</td>\n",
       "      <td>0.0</td>\n",
       "      <td>0.0</td>\n",
       "      <td>0.0</td>\n",
       "      <td>0.0</td>\n",
       "      <td>0.0</td>\n",
       "      <td>0.0</td>\n",
       "      <td>0.0</td>\n",
       "      <td>0.0</td>\n",
       "      <td>0.0</td>\n",
       "    </tr>\n",
       "    <tr>\n",
       "      <th>2023-01-01</th>\n",
       "      <td>7</td>\n",
       "      <td>1</td>\n",
       "      <td>0</td>\n",
       "      <td>0.0</td>\n",
       "      <td>0.0</td>\n",
       "      <td>1.0</td>\n",
       "      <td>0.0</td>\n",
       "      <td>0.0</td>\n",
       "      <td>0.0</td>\n",
       "      <td>0.0</td>\n",
       "      <td>...</td>\n",
       "      <td>0.0</td>\n",
       "      <td>0.0</td>\n",
       "      <td>0.0</td>\n",
       "      <td>0.0</td>\n",
       "      <td>0.0</td>\n",
       "      <td>0.0</td>\n",
       "      <td>0.0</td>\n",
       "      <td>0.0</td>\n",
       "      <td>0.0</td>\n",
       "      <td>0.0</td>\n",
       "    </tr>\n",
       "    <tr>\n",
       "      <th>2023-01-01</th>\n",
       "      <td>7</td>\n",
       "      <td>1</td>\n",
       "      <td>0</td>\n",
       "      <td>0.0</td>\n",
       "      <td>0.0</td>\n",
       "      <td>1.0</td>\n",
       "      <td>0.0</td>\n",
       "      <td>0.0</td>\n",
       "      <td>0.0</td>\n",
       "      <td>0.0</td>\n",
       "      <td>...</td>\n",
       "      <td>0.0</td>\n",
       "      <td>0.0</td>\n",
       "      <td>0.0</td>\n",
       "      <td>0.0</td>\n",
       "      <td>0.0</td>\n",
       "      <td>0.0</td>\n",
       "      <td>0.0</td>\n",
       "      <td>0.0</td>\n",
       "      <td>0.0</td>\n",
       "      <td>0.0</td>\n",
       "    </tr>\n",
       "  </tbody>\n",
       "</table>\n",
       "<p>5 rows × 151 columns</p>\n",
       "</div>"
      ],
      "text/plain": [
       "            Dia Sem  Sem del año  Uns  PrecioUnit  Feriado_FERIADO  \\\n",
       "Fecha                                                                \n",
       "2023-01-01        7            1    0         0.0              0.0   \n",
       "2023-01-01        7            1    0         0.0              0.0   \n",
       "2023-01-01        7            1    0         0.0              0.0   \n",
       "2023-01-01        7            1    0         0.0              0.0   \n",
       "2023-01-01        7            1    0         0.0              0.0   \n",
       "\n",
       "            Feriado_IRRENUNCIABLE  Feriado_NORMAL  Evento_DIAMADRE  \\\n",
       "Fecha                                                                \n",
       "2023-01-01                    1.0             0.0              0.0   \n",
       "2023-01-01                    1.0             0.0              0.0   \n",
       "2023-01-01                    1.0             0.0              0.0   \n",
       "2023-01-01                    1.0             0.0              0.0   \n",
       "2023-01-01                    1.0             0.0              0.0   \n",
       "\n",
       "            Evento_DIAPADRE  Evento_DIECIOCHO  ...  \\\n",
       "Fecha                                          ...   \n",
       "2023-01-01              0.0               0.0  ...   \n",
       "2023-01-01              0.0               0.0  ...   \n",
       "2023-01-01              0.0               0.0  ...   \n",
       "2023-01-01              0.0               0.0  ...   \n",
       "2023-01-01              0.0               0.0  ...   \n",
       "\n",
       "            New_Cluster_GUANTE_ZAPATO_ZAPATILLA_ST  \\\n",
       "Fecha                                                \n",
       "2023-01-01                                     0.0   \n",
       "2023-01-01                                     0.0   \n",
       "2023-01-01                                     0.0   \n",
       "2023-01-01                                     0.0   \n",
       "2023-01-01                                     0.0   \n",
       "\n",
       "            New_Cluster_GUANTE_ZAPATO_ZAPATO  \\\n",
       "Fecha                                          \n",
       "2023-01-01                               0.0   \n",
       "2023-01-01                               0.0   \n",
       "2023-01-01                               0.0   \n",
       "2023-01-01                               0.0   \n",
       "2023-01-01                               0.0   \n",
       "\n",
       "            New_Cluster_GUANTE_ZAPATO_ZAPATO_CASUAL_CT  \\\n",
       "Fecha                                                    \n",
       "2023-01-01                                         0.0   \n",
       "2023-01-01                                         0.0   \n",
       "2023-01-01                                         0.0   \n",
       "2023-01-01                                         0.0   \n",
       "2023-01-01                                         0.0   \n",
       "\n",
       "            New_Cluster_GUANTE_ZAPATO_ZAPATO_CASUAL_ST  \\\n",
       "Fecha                                                    \n",
       "2023-01-01                                         0.0   \n",
       "2023-01-01                                         0.0   \n",
       "2023-01-01                                         0.0   \n",
       "2023-01-01                                         0.0   \n",
       "2023-01-01                                         0.0   \n",
       "\n",
       "            New_Cluster_GUANTE_ZAPATO_ZAPATO_ESCOLAR  \\\n",
       "Fecha                                                  \n",
       "2023-01-01                                       0.0   \n",
       "2023-01-01                                       0.0   \n",
       "2023-01-01                                       0.0   \n",
       "2023-01-01                                       0.0   \n",
       "2023-01-01                                       0.0   \n",
       "\n",
       "            New_Cluster_GUANTE_ZAPATO_ZAPATO_FORMAL_CT  \\\n",
       "Fecha                                                    \n",
       "2023-01-01                                         0.0   \n",
       "2023-01-01                                         0.0   \n",
       "2023-01-01                                         0.0   \n",
       "2023-01-01                                         0.0   \n",
       "2023-01-01                                         0.0   \n",
       "\n",
       "            New_Cluster_GUANTE_ZAPATO_ZAPATO_FORMAL_ST  \\\n",
       "Fecha                                                    \n",
       "2023-01-01                                         0.0   \n",
       "2023-01-01                                         0.0   \n",
       "2023-01-01                                         0.0   \n",
       "2023-01-01                                         0.0   \n",
       "2023-01-01                                         0.0   \n",
       "\n",
       "            New_Cluster_GUANTE_ZAPATO_ZAPATO_INFORMAL_CT  \\\n",
       "Fecha                                                      \n",
       "2023-01-01                                           0.0   \n",
       "2023-01-01                                           0.0   \n",
       "2023-01-01                                           0.0   \n",
       "2023-01-01                                           0.0   \n",
       "2023-01-01                                           0.0   \n",
       "\n",
       "            New_Cluster_GUANTE_ZAPATO_ZAPATO_INFORMAL_ST  \\\n",
       "Fecha                                                      \n",
       "2023-01-01                                           0.0   \n",
       "2023-01-01                                           0.0   \n",
       "2023-01-01                                           0.0   \n",
       "2023-01-01                                           0.0   \n",
       "2023-01-01                                           0.0   \n",
       "\n",
       "            New_Cluster_GUANTE_ZAPATO_ZAPATO_OUTDOOR  \n",
       "Fecha                                                 \n",
       "2023-01-01                                       0.0  \n",
       "2023-01-01                                       0.0  \n",
       "2023-01-01                                       0.0  \n",
       "2023-01-01                                       0.0  \n",
       "2023-01-01                                       0.0  \n",
       "\n",
       "[5 rows x 151 columns]"
      ]
     },
     "execution_count": 4,
     "metadata": {},
     "output_type": "execute_result"
    }
   ],
   "source": [
    "data_stnd.set_index('Fecha', inplace=True)\n",
    "data_stnd.head()"
   ]
  },
  {
   "cell_type": "code",
   "execution_count": 5,
   "metadata": {
    "executionInfo": {
     "elapsed": 9,
     "status": "aborted",
     "timestamp": 1743555731962,
     "user": {
      "displayName": "María Soledad Murias Palomer",
      "userId": "08750477303248371468"
     },
     "user_tz": 180
    },
    "id": "JH4wy5tQ_MN1"
   },
   "outputs": [
    {
     "name": "stdout",
     "output_type": "stream",
     "text": [
      "<class 'pandas.core.frame.DataFrame'>\n",
      "Index: 68920 entries, 2023-01-01 to 2025-02-20\n",
      "Columns: 151 entries, Dia Sem to New_Cluster_GUANTE_ZAPATO_ZAPATO_OUTDOOR\n",
      "dtypes: float64(148), int64(3)\n",
      "memory usage: 79.9+ MB\n"
     ]
    }
   ],
   "source": [
    "data_stnd.info()"
   ]
  },
  {
   "cell_type": "markdown",
   "metadata": {
    "id": "Fl8jmDEQ7rle"
   },
   "source": [
    "## PREDICCIÓN DE VENTA\n",
    "En esta sección se realizarán el forecast de venta con tres modelos para posterior comparación. Utilizaremos la clasificación de productos entregada por la empresa.\n",
    "\n",
    "Los modelos a utilizar son: ARIMA y XGBoost\n",
    "\n"
   ]
  },
  {
   "cell_type": "code",
   "execution_count": 6,
   "metadata": {
    "executionInfo": {
     "elapsed": 12,
     "status": "aborted",
     "timestamp": 1743555731965,
     "user": {
      "displayName": "María Soledad Murias Palomer",
      "userId": "08750477303248371468"
     },
     "user_tz": 180
    },
    "id": "40Vdo3r4htnS"
   },
   "outputs": [],
   "source": [
    "def calc_stat(y_real,y_pred):\n",
    "  y_mean = y_real.mean()\n",
    "  ss_total = ((y_real - y_mean) ** 2).sum()\n",
    "  ss_residual = ((y_real - y_pred) ** 2).sum()\n",
    "  r2 = 1 - (ss_residual / ss_total)\n",
    "  rmse = np.sqrt(((y_real - y_pred) ** 2).mean())\n",
    "  epsilon = 1e-6\n",
    "  mape = (np.abs((y_real - y_pred) / (y_real+epsilon))).mean() * 100\n",
    "\n",
    "  return r2, rmse, mape"
   ]
  },
  {
   "cell_type": "code",
   "execution_count": 7,
   "metadata": {
    "executionInfo": {
     "elapsed": 12,
     "status": "aborted",
     "timestamp": 1743555731966,
     "user": {
      "displayName": "María Soledad Murias Palomer",
      "userId": "08750477303248371468"
     },
     "user_tz": 180
    },
    "id": "kyVycWkr8V4V"
   },
   "outputs": [
    {
     "name": "stdout",
     "output_type": "stream",
     "text": [
      "64481\n"
     ]
    }
   ],
   "source": [
    "data_stnd.index = pd.to_datetime(data_stnd.index)\n",
    "\n",
    "# Haremos un loop que recorra las filas del DataFrame hasta encontrar en el índice el año 2025\n",
    "indice_primera_fila = 0\n",
    "for index, row in data_stnd.iterrows():\n",
    "    if index.year == 2025:\n",
    "        break\n",
    "    indice_primera_fila += 1\n",
    "\n",
    "print(indice_primera_fila)"
   ]
  },
  {
   "cell_type": "code",
   "execution_count": 8,
   "metadata": {
    "executionInfo": {
     "elapsed": 13,
     "status": "aborted",
     "timestamp": 1743555731968,
     "user": {
      "displayName": "María Soledad Murias Palomer",
      "userId": "08750477303248371468"
     },
     "user_tz": 180
    },
    "id": "wHitO0LW7rle"
   },
   "outputs": [
    {
     "name": "stdout",
     "output_type": "stream",
     "text": [
      "68920 51584 64481\n"
     ]
    }
   ],
   "source": [
    "total_filas = len(data_stnd)\n",
    "val = indice_primera_fila\n",
    "train = int(val*0.8)\n",
    "print(total_filas, train, val)"
   ]
  },
  {
   "cell_type": "markdown",
   "metadata": {
    "id": "p2h7CMogMPjD"
   },
   "source": [
    "### ARIMA"
   ]
  },
  {
   "cell_type": "code",
   "execution_count": 9,
   "metadata": {
    "executionInfo": {
     "elapsed": 15,
     "status": "aborted",
     "timestamp": 1743555731970,
     "user": {
      "displayName": "María Soledad Murias Palomer",
      "userId": "08750477303248371468"
     },
     "user_tz": 180
    },
    "id": "smmK2WuK7rlg"
   },
   "outputs": [],
   "source": [
    "data_arima = data_stnd.copy()\n",
    "\n",
    "atrain = data_arima.iloc[:val]\n",
    "atest = data_arima.iloc[val:]\n",
    "\n",
    "X0_train = atrain.drop(columns=['Uns'])\n",
    "y0_train = atrain['Uns']\n",
    "X0_test = atest.drop(columns=['Uns'])\n",
    "y0_test = atest['Uns']"
   ]
  },
  {
   "cell_type": "code",
   "execution_count": 10,
   "metadata": {
    "executionInfo": {
     "elapsed": 15,
     "status": "aborted",
     "timestamp": 1743555731971,
     "user": {
      "displayName": "María Soledad Murias Palomer",
      "userId": "08750477303248371468"
     },
     "user_tz": 180
    },
    "id": "4Fi7-3yW7rlg"
   },
   "outputs": [
    {
     "name": "stdout",
     "output_type": "stream",
     "text": [
      "p-valor: 1.319124075919274e-25\n"
     ]
    }
   ],
   "source": [
    "resultado = adfuller(y0_train)\n",
    "print(f\"p-valor: {resultado[1]}\")\n",
    "\n",
    "if resultado[1] > 0.05:  # Si la serie no es estacionaria, aplicamos diferenciación\n",
    "    y0_train = y0_train.diff().dropna()\n",
    "    X0_train = X0_train.loc[y0_train.index]  # Asegurar que X tenga el mismo índice que y tras la diferenciación"
   ]
  },
  {
   "cell_type": "code",
   "execution_count": null,
   "metadata": {
    "colab": {
     "base_uri": "https://localhost:8080/"
    },
    "executionInfo": {
     "elapsed": 1702787,
     "status": "ok",
     "timestamp": 1742009928184,
     "user": {
      "displayName": "María Soledad Murias Palomer",
      "userId": "08750477303248371468"
     },
     "user_tz": 180
    },
    "id": "ZsMlFmSj7rlg",
    "outputId": "25778773-04a0-45ae-ad66-1b95f04cdf08"
   },
   "outputs": [
    {
     "name": "stderr",
     "output_type": "stream",
     "text": [
      "/usr/local/lib/python3.11/dist-packages/sklearn/utils/deprecation.py:151: FutureWarning: 'force_all_finite' was renamed to 'ensure_all_finite' in 1.6 and will be removed in 1.8.\n",
      "  warnings.warn(\n",
      "/usr/local/lib/python3.11/dist-packages/sklearn/utils/deprecation.py:151: FutureWarning: 'force_all_finite' was renamed to 'ensure_all_finite' in 1.6 and will be removed in 1.8.\n",
      "  warnings.warn(\n",
      "/usr/local/lib/python3.11/dist-packages/sklearn/utils/deprecation.py:151: FutureWarning: 'force_all_finite' was renamed to 'ensure_all_finite' in 1.6 and will be removed in 1.8.\n",
      "  warnings.warn(\n",
      "/usr/local/lib/python3.11/dist-packages/sklearn/utils/deprecation.py:151: FutureWarning: 'force_all_finite' was renamed to 'ensure_all_finite' in 1.6 and will be removed in 1.8.\n",
      "  warnings.warn(\n",
      "/usr/local/lib/python3.11/dist-packages/sklearn/utils/deprecation.py:151: FutureWarning: 'force_all_finite' was renamed to 'ensure_all_finite' in 1.6 and will be removed in 1.8.\n",
      "  warnings.warn(\n",
      "/usr/local/lib/python3.11/dist-packages/sklearn/utils/deprecation.py:151: FutureWarning: 'force_all_finite' was renamed to 'ensure_all_finite' in 1.6 and will be removed in 1.8.\n",
      "  warnings.warn(\n",
      "/usr/local/lib/python3.11/dist-packages/sklearn/utils/deprecation.py:151: FutureWarning: 'force_all_finite' was renamed to 'ensure_all_finite' in 1.6 and will be removed in 1.8.\n",
      "  warnings.warn(\n",
      "/usr/local/lib/python3.11/dist-packages/sklearn/utils/deprecation.py:151: FutureWarning: 'force_all_finite' was renamed to 'ensure_all_finite' in 1.6 and will be removed in 1.8.\n",
      "  warnings.warn(\n",
      "/usr/local/lib/python3.11/dist-packages/sklearn/utils/deprecation.py:151: FutureWarning: 'force_all_finite' was renamed to 'ensure_all_finite' in 1.6 and will be removed in 1.8.\n",
      "  warnings.warn(\n"
     ]
    },
    {
     "name": "stdout",
     "output_type": "stream",
     "text": [
      "Performing stepwise search to minimize aic\n",
      " ARIMA(2,1,2)(0,0,0)[0] intercept   : AIC=670170.254, Time=61.26 sec\n"
     ]
    },
    {
     "name": "stderr",
     "output_type": "stream",
     "text": [
      "/usr/local/lib/python3.11/dist-packages/sklearn/utils/deprecation.py:151: FutureWarning: 'force_all_finite' was renamed to 'ensure_all_finite' in 1.6 and will be removed in 1.8.\n",
      "  warnings.warn(\n"
     ]
    },
    {
     "name": "stdout",
     "output_type": "stream",
     "text": [
      " ARIMA(0,1,0)(0,0,0)[0] intercept   : AIC=705418.560, Time=1.21 sec\n"
     ]
    },
    {
     "name": "stderr",
     "output_type": "stream",
     "text": [
      "/usr/local/lib/python3.11/dist-packages/sklearn/utils/deprecation.py:151: FutureWarning: 'force_all_finite' was renamed to 'ensure_all_finite' in 1.6 and will be removed in 1.8.\n",
      "  warnings.warn(\n"
     ]
    },
    {
     "name": "stdout",
     "output_type": "stream",
     "text": [
      " ARIMA(1,1,0)(0,0,0)[0] intercept   : AIC=690598.136, Time=1.51 sec\n"
     ]
    },
    {
     "name": "stderr",
     "output_type": "stream",
     "text": [
      "/usr/local/lib/python3.11/dist-packages/sklearn/utils/deprecation.py:151: FutureWarning: 'force_all_finite' was renamed to 'ensure_all_finite' in 1.6 and will be removed in 1.8.\n",
      "  warnings.warn(\n"
     ]
    },
    {
     "name": "stdout",
     "output_type": "stream",
     "text": [
      " ARIMA(0,1,1)(0,0,0)[0] intercept   : AIC=671569.158, Time=15.87 sec\n"
     ]
    },
    {
     "name": "stderr",
     "output_type": "stream",
     "text": [
      "/usr/local/lib/python3.11/dist-packages/sklearn/utils/deprecation.py:151: FutureWarning: 'force_all_finite' was renamed to 'ensure_all_finite' in 1.6 and will be removed in 1.8.\n",
      "  warnings.warn(\n"
     ]
    },
    {
     "name": "stdout",
     "output_type": "stream",
     "text": [
      " ARIMA(0,1,0)(0,0,0)[0]             : AIC=705416.560, Time=0.56 sec\n"
     ]
    },
    {
     "name": "stderr",
     "output_type": "stream",
     "text": [
      "/usr/local/lib/python3.11/dist-packages/sklearn/utils/deprecation.py:151: FutureWarning: 'force_all_finite' was renamed to 'ensure_all_finite' in 1.6 and will be removed in 1.8.\n",
      "  warnings.warn(\n"
     ]
    },
    {
     "name": "stdout",
     "output_type": "stream",
     "text": [
      " ARIMA(1,1,2)(0,0,0)[0] intercept   : AIC=670281.108, Time=42.21 sec\n"
     ]
    },
    {
     "name": "stderr",
     "output_type": "stream",
     "text": [
      "/usr/local/lib/python3.11/dist-packages/sklearn/utils/deprecation.py:151: FutureWarning: 'force_all_finite' was renamed to 'ensure_all_finite' in 1.6 and will be removed in 1.8.\n",
      "  warnings.warn(\n"
     ]
    },
    {
     "name": "stdout",
     "output_type": "stream",
     "text": [
      " ARIMA(2,1,1)(0,0,0)[0] intercept   : AIC=670229.207, Time=64.65 sec\n"
     ]
    },
    {
     "name": "stderr",
     "output_type": "stream",
     "text": [
      "/usr/local/lib/python3.11/dist-packages/sklearn/utils/deprecation.py:151: FutureWarning: 'force_all_finite' was renamed to 'ensure_all_finite' in 1.6 and will be removed in 1.8.\n",
      "  warnings.warn(\n"
     ]
    },
    {
     "name": "stdout",
     "output_type": "stream",
     "text": [
      " ARIMA(3,1,2)(0,0,0)[0] intercept   : AIC=670199.508, Time=41.28 sec\n"
     ]
    },
    {
     "name": "stderr",
     "output_type": "stream",
     "text": [
      "/usr/local/lib/python3.11/dist-packages/sklearn/utils/deprecation.py:151: FutureWarning: 'force_all_finite' was renamed to 'ensure_all_finite' in 1.6 and will be removed in 1.8.\n",
      "  warnings.warn(\n"
     ]
    },
    {
     "name": "stdout",
     "output_type": "stream",
     "text": [
      " ARIMA(2,1,3)(0,0,0)[0] intercept   : AIC=669811.263, Time=103.38 sec\n"
     ]
    },
    {
     "name": "stderr",
     "output_type": "stream",
     "text": [
      "/usr/local/lib/python3.11/dist-packages/sklearn/utils/deprecation.py:151: FutureWarning: 'force_all_finite' was renamed to 'ensure_all_finite' in 1.6 and will be removed in 1.8.\n",
      "  warnings.warn(\n"
     ]
    },
    {
     "name": "stdout",
     "output_type": "stream",
     "text": [
      " ARIMA(1,1,3)(0,0,0)[0] intercept   : AIC=670128.446, Time=54.11 sec\n"
     ]
    },
    {
     "name": "stderr",
     "output_type": "stream",
     "text": [
      "/usr/local/lib/python3.11/dist-packages/sklearn/utils/deprecation.py:151: FutureWarning: 'force_all_finite' was renamed to 'ensure_all_finite' in 1.6 and will be removed in 1.8.\n",
      "  warnings.warn(\n"
     ]
    },
    {
     "name": "stdout",
     "output_type": "stream",
     "text": [
      " ARIMA(3,1,3)(0,0,0)[0] intercept   : AIC=669851.287, Time=107.30 sec\n"
     ]
    },
    {
     "name": "stderr",
     "output_type": "stream",
     "text": [
      "/usr/local/lib/python3.11/dist-packages/sklearn/utils/deprecation.py:151: FutureWarning: 'force_all_finite' was renamed to 'ensure_all_finite' in 1.6 and will be removed in 1.8.\n",
      "  warnings.warn(\n"
     ]
    },
    {
     "name": "stdout",
     "output_type": "stream",
     "text": [
      " ARIMA(2,1,4)(0,0,0)[0] intercept   : AIC=669836.920, Time=109.91 sec\n"
     ]
    },
    {
     "name": "stderr",
     "output_type": "stream",
     "text": [
      "/usr/local/lib/python3.11/dist-packages/sklearn/utils/deprecation.py:151: FutureWarning: 'force_all_finite' was renamed to 'ensure_all_finite' in 1.6 and will be removed in 1.8.\n",
      "  warnings.warn(\n"
     ]
    },
    {
     "name": "stdout",
     "output_type": "stream",
     "text": [
      " ARIMA(1,1,4)(0,0,0)[0] intercept   : AIC=670138.837, Time=44.60 sec\n"
     ]
    },
    {
     "name": "stderr",
     "output_type": "stream",
     "text": [
      "/usr/local/lib/python3.11/dist-packages/sklearn/utils/deprecation.py:151: FutureWarning: 'force_all_finite' was renamed to 'ensure_all_finite' in 1.6 and will be removed in 1.8.\n",
      "  warnings.warn(\n"
     ]
    },
    {
     "name": "stdout",
     "output_type": "stream",
     "text": [
      " ARIMA(3,1,4)(0,0,0)[0] intercept   : AIC=669804.581, Time=117.53 sec\n"
     ]
    },
    {
     "name": "stderr",
     "output_type": "stream",
     "text": [
      "/usr/local/lib/python3.11/dist-packages/sklearn/utils/deprecation.py:151: FutureWarning: 'force_all_finite' was renamed to 'ensure_all_finite' in 1.6 and will be removed in 1.8.\n",
      "  warnings.warn(\n"
     ]
    },
    {
     "name": "stdout",
     "output_type": "stream",
     "text": [
      " ARIMA(4,1,4)(0,0,0)[0] intercept   : AIC=669871.148, Time=126.54 sec\n"
     ]
    },
    {
     "name": "stderr",
     "output_type": "stream",
     "text": [
      "/usr/local/lib/python3.11/dist-packages/sklearn/utils/deprecation.py:151: FutureWarning: 'force_all_finite' was renamed to 'ensure_all_finite' in 1.6 and will be removed in 1.8.\n",
      "  warnings.warn(\n"
     ]
    },
    {
     "name": "stdout",
     "output_type": "stream",
     "text": [
      " ARIMA(3,1,5)(0,0,0)[0] intercept   : AIC=669777.122, Time=147.35 sec\n"
     ]
    },
    {
     "name": "stderr",
     "output_type": "stream",
     "text": [
      "/usr/local/lib/python3.11/dist-packages/sklearn/utils/deprecation.py:151: FutureWarning: 'force_all_finite' was renamed to 'ensure_all_finite' in 1.6 and will be removed in 1.8.\n",
      "  warnings.warn(\n"
     ]
    },
    {
     "name": "stdout",
     "output_type": "stream",
     "text": [
      " ARIMA(2,1,5)(0,0,0)[0] intercept   : AIC=670118.370, Time=85.83 sec\n"
     ]
    },
    {
     "name": "stderr",
     "output_type": "stream",
     "text": [
      "/usr/local/lib/python3.11/dist-packages/sklearn/utils/deprecation.py:151: FutureWarning: 'force_all_finite' was renamed to 'ensure_all_finite' in 1.6 and will be removed in 1.8.\n",
      "  warnings.warn(\n"
     ]
    },
    {
     "name": "stdout",
     "output_type": "stream",
     "text": [
      " ARIMA(4,1,5)(0,0,0)[0] intercept   : AIC=669801.950, Time=156.61 sec\n"
     ]
    },
    {
     "name": "stderr",
     "output_type": "stream",
     "text": [
      "/usr/local/lib/python3.11/dist-packages/sklearn/utils/deprecation.py:151: FutureWarning: 'force_all_finite' was renamed to 'ensure_all_finite' in 1.6 and will be removed in 1.8.\n",
      "  warnings.warn(\n"
     ]
    },
    {
     "name": "stdout",
     "output_type": "stream",
     "text": [
      " ARIMA(3,1,5)(0,0,0)[0]             : AIC=669740.463, Time=90.36 sec\n"
     ]
    },
    {
     "name": "stderr",
     "output_type": "stream",
     "text": [
      "/usr/local/lib/python3.11/dist-packages/sklearn/utils/deprecation.py:151: FutureWarning: 'force_all_finite' was renamed to 'ensure_all_finite' in 1.6 and will be removed in 1.8.\n",
      "  warnings.warn(\n"
     ]
    },
    {
     "name": "stdout",
     "output_type": "stream",
     "text": [
      " ARIMA(2,1,5)(0,0,0)[0]             : AIC=670116.400, Time=50.48 sec\n"
     ]
    },
    {
     "name": "stderr",
     "output_type": "stream",
     "text": [
      "/usr/local/lib/python3.11/dist-packages/sklearn/utils/deprecation.py:151: FutureWarning: 'force_all_finite' was renamed to 'ensure_all_finite' in 1.6 and will be removed in 1.8.\n",
      "  warnings.warn(\n"
     ]
    },
    {
     "name": "stdout",
     "output_type": "stream",
     "text": [
      " ARIMA(3,1,4)(0,0,0)[0]             : AIC=669802.171, Time=62.27 sec\n"
     ]
    },
    {
     "name": "stderr",
     "output_type": "stream",
     "text": [
      "/usr/local/lib/python3.11/dist-packages/sklearn/utils/deprecation.py:151: FutureWarning: 'force_all_finite' was renamed to 'ensure_all_finite' in 1.6 and will be removed in 1.8.\n",
      "  warnings.warn(\n"
     ]
    },
    {
     "name": "stdout",
     "output_type": "stream",
     "text": [
      " ARIMA(4,1,5)(0,0,0)[0]             : AIC=669802.902, Time=83.45 sec\n"
     ]
    },
    {
     "name": "stderr",
     "output_type": "stream",
     "text": [
      "/usr/local/lib/python3.11/dist-packages/sklearn/utils/deprecation.py:151: FutureWarning: 'force_all_finite' was renamed to 'ensure_all_finite' in 1.6 and will be removed in 1.8.\n",
      "  warnings.warn(\n"
     ]
    },
    {
     "name": "stdout",
     "output_type": "stream",
     "text": [
      " ARIMA(2,1,4)(0,0,0)[0]             : AIC=669838.795, Time=62.21 sec\n"
     ]
    },
    {
     "name": "stderr",
     "output_type": "stream",
     "text": [
      "/usr/local/lib/python3.11/dist-packages/sklearn/utils/deprecation.py:151: FutureWarning: 'force_all_finite' was renamed to 'ensure_all_finite' in 1.6 and will be removed in 1.8.\n",
      "  warnings.warn(\n"
     ]
    },
    {
     "name": "stdout",
     "output_type": "stream",
     "text": [
      " ARIMA(4,1,4)(0,0,0)[0]             : AIC=669861.273, Time=70.93 sec\n",
      "\n",
      "Best model:  ARIMA(3,1,5)(0,0,0)[0]          \n",
      "Total fit time: 1701.490 seconds\n",
      "                               SARIMAX Results                                \n",
      "==============================================================================\n",
      "Dep. Variable:                      y   No. Observations:                64481\n",
      "Model:               SARIMAX(3, 1, 5)   Log Likelihood             -334861.231\n",
      "Date:                Sat, 15 Mar 2025   AIC                         669740.463\n",
      "Time:                        03:38:47   BIC                         669822.130\n",
      "Sample:                             0   HQIC                        669765.746\n",
      "                              - 64481                                         \n",
      "Covariance Type:                  opg                                         \n",
      "==============================================================================\n",
      "                 coef    std err          z      P>|z|      [0.025      0.975]\n",
      "------------------------------------------------------------------------------\n",
      "ar.L1          0.2669      0.007     39.843      0.000       0.254       0.280\n",
      "ar.L2          0.3844      0.006     67.834      0.000       0.373       0.396\n",
      "ar.L3         -0.8533      0.006   -149.011      0.000      -0.865      -0.842\n",
      "ma.L1         -1.1171      0.007   -156.454      0.000      -1.131      -1.103\n",
      "ma.L2         -0.2621      0.007    -37.514      0.000      -0.276      -0.248\n",
      "ma.L3          1.1506      0.009    135.052      0.000       1.134       1.167\n",
      "ma.L4         -0.6858      0.006   -118.761      0.000      -0.697      -0.674\n",
      "ma.L5         -0.0629      0.003    -21.360      0.000      -0.069      -0.057\n",
      "sigma2      1949.3327      2.199    886.464      0.000    1945.023    1953.643\n",
      "===================================================================================\n",
      "Ljung-Box (L1) (Q):                   0.39   Jarque-Bera (JB):          10149659.61\n",
      "Prob(Q):                              0.53   Prob(JB):                         0.00\n",
      "Heteroskedasticity (H):               1.52   Skew:                             4.93\n",
      "Prob(H) (two-sided):                  0.00   Kurtosis:                        63.67\n",
      "===================================================================================\n",
      "\n",
      "Warnings:\n",
      "[1] Covariance matrix calculated using the outer product of gradients (complex-step).\n"
     ]
    }
   ],
   "source": [
    "modelo_auto = auto_arima(\n",
    "    y0_train, exogenous=X0_train, seasonal=False, trace=True, stepwise=True\n",
    ")\n",
    "\n",
    "print(modelo_auto.summary())"
   ]
  },
  {
   "cell_type": "code",
   "execution_count": null,
   "metadata": {
    "id": "xcEDZkGn7rlh"
   },
   "outputs": [],
   "source": [
    "# Extraer los mejores parámetros obtenidos de auto_arima\n",
    "p, d, q = modelo_auto.order"
   ]
  },
  {
   "cell_type": "code",
   "execution_count": null,
   "metadata": {
    "colab": {
     "base_uri": "https://localhost:8080/"
    },
    "executionInfo": {
     "elapsed": 1594784,
     "status": "ok",
     "timestamp": 1742011557652,
     "user": {
      "displayName": "María Soledad Murias Palomer",
      "userId": "08750477303248371468"
     },
     "user_tz": 180
    },
    "id": "7FzaRmL27rlh",
    "outputId": "14d9aa6a-d38a-4e0a-9b7f-69f65b5681cd"
   },
   "outputs": [
    {
     "name": "stderr",
     "output_type": "stream",
     "text": [
      "/usr/local/lib/python3.11/dist-packages/statsmodels/tsa/base/tsa_model.py:473: ValueWarning: A date index has been provided, but it has no associated frequency information and so will be ignored when e.g. forecasting.\n",
      "  self._init_dates(dates, freq)\n",
      "/usr/local/lib/python3.11/dist-packages/statsmodels/tsa/base/tsa_model.py:473: ValueWarning: A date index has been provided, but it has no associated frequency information and so will be ignored when e.g. forecasting.\n",
      "  self._init_dates(dates, freq)\n",
      "/usr/local/lib/python3.11/dist-packages/statsmodels/tsa/base/tsa_model.py:473: ValueWarning: A date index has been provided, but it has no associated frequency information and so will be ignored when e.g. forecasting.\n",
      "  self._init_dates(dates, freq)\n",
      "/usr/local/lib/python3.11/dist-packages/statsmodels/base/model.py:607: ConvergenceWarning: Maximum Likelihood optimization failed to converge. Check mle_retvals\n",
      "  warnings.warn(\"Maximum Likelihood optimization failed to \"\n"
     ]
    },
    {
     "name": "stdout",
     "output_type": "stream",
     "text": [
      "                               SARIMAX Results                                \n",
      "==============================================================================\n",
      "Dep. Variable:                    Uns   No. Observations:                64481\n",
      "Model:                 ARIMA(3, 1, 5)   Log Likelihood             -315674.869\n",
      "Date:                Sat, 15 Mar 2025   AIC                         631667.738\n",
      "Time:                        04:05:56   BIC                         633110.522\n",
      "Sample:                             0   HQIC                        632114.404\n",
      "                              - 64481                                         \n",
      "Covariance Type:                  opg                                         \n",
      "==============================================================================================================================\n",
      "                                                                 coef    std err          z      P>|z|      [0.025      0.975]\n",
      "------------------------------------------------------------------------------------------------------------------------------\n",
      "Dia Sem                                                        1.4363      0.512      2.803      0.005       0.432       2.440\n",
      "Sem del año                                                   -0.3694      0.864     -0.428      0.669      -2.062       1.323\n",
      "PrecioUnit                                                     0.0001   1.13e-05     12.441      0.000       0.000       0.000\n",
      "Feriado_FERIADO                                               13.6188      5.134      2.653      0.008       3.557      23.680\n",
      "Feriado_IRRENUNCIABLE                                        -21.1603      5.192     -4.076      0.000     -31.336     -10.985\n",
      "Feriado_NORMAL                                                 7.5415      3.402      2.217      0.027       0.873      14.209\n",
      "Evento_DIAMADRE                                               -6.9874     15.028     -0.465      0.642     -36.441      22.466\n",
      "Evento_DIAPADRE                                               13.6877     16.736      0.818      0.413     -19.114      46.490\n",
      "Evento_DIECIOCHO                                             -15.0477     15.951     -0.943      0.345     -46.311      16.215\n",
      "Evento_NAVIDAD                                                -2.8766      8.600     -0.335      0.738     -19.732      13.979\n",
      "Evento_NOEVENTO                                               -6.3162      6.426     -0.983      0.326     -18.911       6.278\n",
      "Evento_PRENAVIDAD                                             17.5402      8.523      2.058      0.040       0.836      34.245\n",
      "New_Cluster_GACEL_ALPARGATA_ALPARGATA_CASUAL                  -9.7064      2.875     -3.376      0.001     -15.341      -4.072\n",
      "New_Cluster_GACEL_BALLERINA_BALLERINA                        -12.8416      4.991     -2.573      0.010     -22.623      -3.060\n",
      "New_Cluster_GACEL_BALLERINA_BALLERINA_FIESTA                 -19.7176      4.951     -3.982      0.000     -29.422     -10.013\n",
      "New_Cluster_GACEL_BALLERINA_BALLERINA_VESTIR                   0.9070      2.389      0.380      0.704      -3.775       5.589\n",
      "New_Cluster_GACEL_BILLETERA_BILLETERA                         19.2727      1.895     10.172      0.000      15.559      22.986\n",
      "New_Cluster_GACEL_BOLSO_BOLSO                                -17.3382      3.372     -5.142      0.000     -23.947     -10.730\n",
      "New_Cluster_GACEL_BOOTIE_BOOTIE                              -21.8791      4.069     -5.377      0.000     -29.855     -13.904\n",
      "New_Cluster_GACEL_BOOTIE_BOOTIE_CASUAL_BAJA                  -16.5294      9.783     -1.690      0.091     -35.704       2.645\n",
      "New_Cluster_GACEL_BOOTIE_BOOTIE_CASUAL_MEDIA                   6.7138      1.602      4.192      0.000       3.575       9.853\n",
      "New_Cluster_GACEL_BOOTIE_BOOTIE_VESTIR_ALTA                  -13.6447      3.039     -4.489      0.000     -19.602      -7.687\n",
      "New_Cluster_GACEL_BOOTIE_BOOTIE_VESTIR_MEDIA                 -25.1635      5.535     -4.546      0.000     -36.011     -14.316\n",
      "New_Cluster_GACEL_BOTA_BOTA                                  -20.3108      3.628     -5.598      0.000     -27.422     -13.199\n",
      "New_Cluster_GACEL_BOTA_BOTA_CASUAL_ALTA                      -33.0506      3.242    -10.194      0.000     -39.405     -26.696\n",
      "New_Cluster_GACEL_BOTA_BOTA_CASUAL_BAJA                      -14.7074      2.073     -7.095      0.000     -18.770     -10.644\n",
      "New_Cluster_GACEL_BOTA_BOTA_CASUAL_MEDIA                      25.3596      1.454     17.441      0.000      22.510      28.209\n",
      "New_Cluster_GACEL_BOTA_BOTA_VESTIR_ALTA                      -31.5438      2.243    -14.064      0.000     -35.940     -27.148\n",
      "New_Cluster_GACEL_BOTA_BOTA_VESTIR_MEDIA                     -25.4154      3.466     -7.332      0.000     -32.209     -18.621\n",
      "New_Cluster_GACEL_BOTIN_BOTIN                                -17.3175      3.143     -5.509      0.000     -23.479     -11.156\n",
      "New_Cluster_GACEL_BOTIN_BOTIN_CASUAL_ALTA                    -34.5909      3.310    -10.452      0.000     -41.077     -28.104\n",
      "New_Cluster_GACEL_BOTIN_BOTIN_CASUAL_BAJA                     -5.0997      1.656     -3.080      0.002      -8.345      -1.854\n",
      "New_Cluster_GACEL_BOTIN_BOTIN_CASUAL_MEDIA                    31.2828      1.332     23.493      0.000      28.673      33.893\n",
      "New_Cluster_GACEL_BOTIN_BOTIN_FIESTA                         -47.9744      2.749    -17.453      0.000     -53.362     -42.587\n",
      "New_Cluster_GACEL_BOTIN_BOTIN_MODA                          1.285e-12   1.08e-06   1.19e-06      1.000   -2.12e-06    2.12e-06\n",
      "New_Cluster_GACEL_BOTIN_BOTIN_OUTDOOR                        -14.4067      1.660     -8.678      0.000     -17.661     -11.153\n",
      "New_Cluster_GACEL_BOTIN_BOTIN_VESTIR_ALTA                    -21.6095      2.718     -7.950      0.000     -26.937     -16.282\n",
      "New_Cluster_GACEL_BOTIN_BOTIN_VESTIR_MEDIA                   -18.3066      3.134     -5.842      0.000     -24.448     -12.165\n",
      "New_Cluster_GACEL_BOTIN_GACEL FFAA                            -0.7551     14.417     -0.052      0.958     -29.013      27.502\n",
      "New_Cluster_GACEL_CALCETIN_CALCETIN                           27.5748      1.874     14.713      0.000      23.901      31.248\n",
      "New_Cluster_GACEL_CALZADOR_CALZADOR                          -17.7663      1.952     -9.101      0.000     -21.592     -13.940\n",
      "New_Cluster_GACEL_CARTERA_CARTERA                            155.7749      1.179    132.113      0.000     153.464     158.086\n",
      "New_Cluster_GACEL_CINTURON_CINTURON                           10.9526      1.731      6.326      0.000       7.559      14.346\n",
      "New_Cluster_GACEL_CREMA_CREMA                                 21.0194      1.579     13.310      0.000      17.924      24.115\n",
      "New_Cluster_GACEL_ESCOBILLA_ESCOBILLA                          3.8511      3.200      1.203      0.229      -2.421      10.123\n",
      "New_Cluster_GACEL_GUANTE_GUANTE                              -11.0199     10.476     -1.052      0.293     -31.552       9.512\n",
      "New_Cluster_GACEL_LENTE_LENTE                                 -4.2503      1.979     -2.147      0.032      -8.130      -0.371\n",
      "New_Cluster_GACEL_MALETIN_MALETIN                            -21.3245      3.496     -6.100      0.000     -28.176     -14.473\n",
      "New_Cluster_GACEL_MOCASIN_MOCASIN                            -22.2378      3.097     -7.180      0.000     -28.308     -16.168\n",
      "New_Cluster_GACEL_MOCASIN_MOCASIN_CASUAL                      -6.8259      2.471     -2.762      0.006     -11.669      -1.983\n",
      "New_Cluster_GACEL_MOCASIN_MOCASIN_VESTIR                       8.4196      1.801      4.675      0.000       4.890      11.949\n",
      "New_Cluster_GACEL_MOCHILA_MOCHILA                             35.6599      1.623     21.977      0.000      32.480      38.840\n",
      "New_Cluster_GACEL_NECESAIRE_NECESAIRE                         -9.3785      2.564     -3.657      0.000     -14.405      -4.352\n",
      "New_Cluster_GACEL_OTRO ACCESORIO_OTRO ACCESORIO               -8.2810     11.850     -0.699      0.485     -31.506      14.944\n",
      "New_Cluster_GACEL_PANTUFLA_PANTUFLA                          -13.8717      3.170     -4.376      0.000     -20.085      -7.659\n",
      "New_Cluster_GACEL_PANUELO_PANUELO                              6.3784      1.598      3.992      0.000       3.247       9.510\n",
      "New_Cluster_GACEL_PLANTILLA_PLANTILLA                         16.3922      1.944      8.432      0.000      12.582      20.202\n",
      "New_Cluster_GACEL_PROMOCIONAL_PROMOCIONAL                    -15.1499      4.314     -3.511      0.000     -23.606      -6.694\n",
      "New_Cluster_GACEL_PUNTA_PUNTA                                 -2.9956     22.695     -0.132      0.895     -47.478      41.487\n",
      "New_Cluster_GACEL_RELOJ_RELOJ                                -15.6407      2.978     -5.252      0.000     -21.477      -9.804\n",
      "New_Cluster_GACEL_SANDALIA_SANDALIA                          -19.0918      3.753     -5.087      0.000     -26.447     -11.737\n",
      "New_Cluster_GACEL_SANDALIA_SANDALIA_CASUAL_ALTA              -29.3760      2.473    -11.876      0.000     -34.224     -24.528\n",
      "New_Cluster_GACEL_SANDALIA_SANDALIA_CASUAL_BAJA               33.6724      1.391     24.215      0.000      30.947      36.398\n",
      "New_Cluster_GACEL_SANDALIA_SANDALIA_CASUAL_MEDIA              -9.5199      2.065     -4.609      0.000     -13.568      -5.472\n",
      "New_Cluster_GACEL_SANDALIA_SANDALIA_CASUAL_PLANA              41.3916      1.442     28.695      0.000      38.564      44.219\n",
      "New_Cluster_GACEL_SANDALIA_SANDALIA_FIESTA                   -18.9649      1.861    -10.190      0.000     -22.613     -15.317\n",
      "New_Cluster_GACEL_SANDALIA_SANDALIA_MODA                     -28.3960      3.080     -9.220      0.000     -34.433     -22.359\n",
      "New_Cluster_GACEL_SANDALIA_SANDALIA_OUTDOOR                  -31.9154      2.846    -11.213      0.000     -37.494     -26.337\n",
      "New_Cluster_GACEL_SANDALIA_SANDALIA_VESTIR_ALTA              -25.6193      3.066     -8.355      0.000     -31.629     -19.609\n",
      "New_Cluster_GACEL_SANDALIA_SANDALIA_VESTIR_BAJA              -28.0884      2.938     -9.561      0.000     -33.846     -22.330\n",
      "New_Cluster_GACEL_SANDALIA_SANDALIA_VESTIR_MEDIA              38.2529      1.468     26.058      0.000      35.376      41.130\n",
      "New_Cluster_GACEL_SANDALIA_SANDALIA_VESTIR_PLANA               6.4184      1.859      3.452      0.001       2.775      10.062\n",
      "New_Cluster_GACEL_SOMBRERO_SOMBRERO                            2.2005      1.970      1.117      0.264      -1.661       6.062\n",
      "New_Cluster_GACEL_SPRAY_SPRAY                                 10.2069      1.662      6.141      0.000       6.949      13.464\n",
      "New_Cluster_GACEL_ZAPATILLA_GACEL FFAA                       -13.8880      3.386     -4.101      0.000     -20.525      -7.251\n",
      "New_Cluster_GACEL_ZAPATILLA_ZAPATILLA                        -14.8170      2.542     -5.829      0.000     -19.800      -9.834\n",
      "New_Cluster_GACEL_ZAPATILLA_ZAPATILLA_CASUAL                  44.3059      1.618     27.383      0.000      41.135      47.477\n",
      "New_Cluster_GACEL_ZAPATILLA_ZAPATILLA_OUTDOOR                  3.7279      1.859      2.005      0.045       0.085       7.371\n",
      "New_Cluster_GACEL_ZAPATO_BOOTIE_VESTIR_MEDIA                 -15.0171      4.154     -3.615      0.000     -23.160      -6.875\n",
      "New_Cluster_GACEL_ZAPATO_ZAPATO                              -10.3941      2.081     -4.994      0.000     -14.474      -6.315\n",
      "New_Cluster_GACEL_ZAPATO_ZAPATO_CASUAL_ALTA                  -16.3871      5.459     -3.002      0.003     -27.087      -5.687\n",
      "New_Cluster_GACEL_ZAPATO_ZAPATO_CASUAL_BAJA                    2.1567      2.634      0.819      0.413      -3.007       7.320\n",
      "New_Cluster_GACEL_ZAPATO_ZAPATO_CASUAL_MEDIA                  -3.9256      3.592     -1.093      0.274     -10.966       3.115\n",
      "New_Cluster_GACEL_ZAPATO_ZAPATO_FIESTA                        -9.7275      3.831     -2.539      0.011     -17.236      -2.219\n",
      "New_Cluster_GACEL_ZAPATO_ZAPATO_MODA                         -17.9880      5.153     -3.491      0.000     -28.088      -7.888\n",
      "New_Cluster_GACEL_ZAPATO_ZAPATO_VESTIR_ALTA                    6.4508      3.558      1.813      0.070      -0.522      13.424\n",
      "New_Cluster_GACEL_ZAPATO_ZAPATO_VESTIR_BAJA                   -4.1800      3.605     -1.160      0.246     -11.245       2.885\n",
      "New_Cluster_GACEL_ZAPATO_ZAPATO_VESTIR_MEDIA                  22.5806      2.238     10.091      0.000      18.195      26.967\n",
      "New_Cluster_GUANTE_ALPARGATA_ALPARGATA                       -38.5310      4.535     -8.496      0.000     -47.420     -29.642\n",
      "New_Cluster_GUANTE_BILLETERA_BILLETERA                        23.6360      1.558     15.168      0.000      20.582      26.690\n",
      "New_Cluster_GUANTE_BOLSO_BOLSO                                -7.0995      3.254     -2.182      0.029     -13.477      -0.722\n",
      "New_Cluster_GUANTE_BOTA_BOTA_FORMAL                          -16.7863      6.127     -2.740      0.006     -28.795      -4.778\n",
      "New_Cluster_GUANTE_BOTIN_BOTIN                               -10.3238      3.390     -3.045      0.002     -16.969      -3.679\n",
      "New_Cluster_GUANTE_BOTIN_BOTIN_ALTO INVIERNO                  -2.3253      2.397     -0.970      0.332      -7.023       2.372\n",
      "New_Cluster_GUANTE_BOTIN_BOTIN_ESCOLAR                       -11.5058      3.754     -3.065      0.002     -18.863      -4.148\n",
      "New_Cluster_GUANTE_BOTIN_BOTIN_FASHION                        -3.7349      2.313     -1.615      0.106      -8.269       0.799\n",
      "New_Cluster_GUANTE_BOTIN_BOTIN_FORMAL                         -2.0710      2.607     -0.795      0.427      -7.180       3.038\n",
      "New_Cluster_GUANTE_BOTIN_BOTIN_INFORMAL                        4.4606      2.179      2.047      0.041       0.189       8.732\n",
      "New_Cluster_GUANTE_BOTIN_BOTIN_OUTDOOR                         7.2954      2.068      3.527      0.000       3.242      11.349\n",
      "New_Cluster_GUANTE_BOTIN_GUANTE FFAA                         -29.9678      8.152     -3.676      0.000     -45.946     -13.989\n",
      "New_Cluster_GUANTE_BOTIN_PRESIDENT                           -48.9426      4.796    -10.206      0.000     -58.342     -39.543\n",
      "New_Cluster_GUANTE_BOTIN_SUELA 1928                          -22.9477     19.811     -1.158      0.247     -61.776      15.881\n",
      "New_Cluster_GUANTE_BOTIN_ZAPATILLA_CAÑA ALTA                 -24.3666     23.032     -1.058      0.290     -69.508      20.775\n",
      "New_Cluster_GUANTE_BUFANDA_BUFANDA                            -7.8751      5.573     -1.413      0.158     -18.799       3.049\n",
      "New_Cluster_GUANTE_CALCETIN_CALCETIN                          32.8414      1.638     20.053      0.000      29.632      36.051\n",
      "New_Cluster_GUANTE_CALZADOR_CALZADOR                           0.6480      2.680      0.242      0.809      -4.605       5.901\n",
      "New_Cluster_GUANTE_CAMPERA_CAMPERA                            25.7888     10.314      2.500      0.012       5.574      46.004\n",
      "New_Cluster_GUANTE_CINTURON_CINTURON                          61.4678      1.570     39.145      0.000      58.390      64.545\n",
      "New_Cluster_GUANTE_CORDON_CORDON                               5.8392      2.504      2.332      0.020       0.932      10.747\n",
      "New_Cluster_GUANTE_CREMA_CREMA                               124.6934      1.558     80.011      0.000     121.639     127.748\n",
      "New_Cluster_GUANTE_ESCOBILLA_ESCOBILLA                        94.6403      2.007     47.157      0.000      90.707      98.574\n",
      "New_Cluster_GUANTE_GUANTE_GUANTE                              37.2493     12.489      2.983      0.003      12.772      61.727\n",
      "New_Cluster_GUANTE_LENTE_LENTE                                -7.3807      2.559     -2.884      0.004     -12.397      -2.365\n",
      "New_Cluster_GUANTE_MASCARILLA_MASCARILLA                     -22.1587      6.846     -3.237      0.001     -35.577      -8.740\n",
      "New_Cluster_GUANTE_MOCASIN_MOCASIN                           -16.5098      2.728     -6.053      0.000     -21.856     -11.164\n",
      "New_Cluster_GUANTE_MOCASIN_MOCASIN_FORMAL                    -22.8460      2.581     -8.851      0.000     -27.905     -17.787\n",
      "New_Cluster_GUANTE_MOCASIN_MOCASIN_VERANO                     32.7554      1.460     22.440      0.000      29.894      35.616\n",
      "New_Cluster_GUANTE_MOCHILA_MOCHILA                           -13.4066      2.079     -6.447      0.000     -17.482      -9.331\n",
      "New_Cluster_GUANTE_NECESAIRE_NECESAIRE                       -13.2009      3.802     -3.472      0.001     -20.654      -5.748\n",
      "New_Cluster_GUANTE_PANTUFLA_PANTUFLA                         -10.3172      3.130     -3.297      0.001     -16.451      -4.183\n",
      "New_Cluster_GUANTE_PANUELO_PANUELO                            -6.0303      6.762     -0.892      0.372     -19.283       7.223\n",
      "New_Cluster_GUANTE_PLANTILLA_PLANTILLA                        -7.7864      3.283     -2.372      0.018     -14.221      -1.352\n",
      "New_Cluster_GUANTE_PROMOCIONAL_PROMOCIONAL                   -11.6211      4.847     -2.398      0.017     -21.121      -2.121\n",
      "New_Cluster_GUANTE_RELOJ_RELOJ                               -15.8708     19.640     -0.808      0.419     -54.364      22.623\n",
      "New_Cluster_GUANTE_SANDALIA_SANDALIA                         -30.7668      2.951    -10.427      0.000     -36.550     -24.983\n",
      "New_Cluster_GUANTE_SANDALIA_SANDALIA_ABIERTA                  34.0850      1.441     23.658      0.000      31.261      36.909\n",
      "New_Cluster_GUANTE_SANDALIA_SANDALIA_CERRADA                   6.9024      2.049      3.368      0.001       2.886      10.919\n",
      "New_Cluster_GUANTE_SANDALIA_SANDALIA_OUTDOOR                 -12.5081      3.136     -3.989      0.000     -18.654      -6.362\n",
      "New_Cluster_GUANTE_SANDALIA_SANDALIA_SEMI ABIERTA             30.0465      1.673     17.964      0.000      26.768      33.325\n",
      "New_Cluster_GUANTE_SOMBRERO_SOMBRERO                          -8.9356      2.545     -3.511      0.000     -13.924      -3.947\n",
      "New_Cluster_GUANTE_SPRAY_SPRAY                                49.3612      1.827     27.017      0.000      45.780      52.942\n",
      "New_Cluster_GUANTE_STRAP_STRAP                                12.3870      5.092      2.433      0.015       2.408      22.366\n",
      "New_Cluster_GUANTE_WIPES_WIPES                                34.5665      1.680     20.574      0.000      31.274      37.859\n",
      "New_Cluster_GUANTE_ZAPATILLA CAÑA ALTA_ZAPATILLA CAÑA ALTA    -9.3126      2.114     -4.406      0.000     -13.455      -5.170\n",
      "New_Cluster_GUANTE_ZAPATILLA_ZAPATILLA                       -15.5385      5.525     -2.812      0.005     -26.368      -4.709\n",
      "New_Cluster_GUANTE_ZAPATILLA_ZAPATILLA_CT                    -10.6135      2.446     -4.339      0.000     -15.407      -5.820\n",
      "New_Cluster_GUANTE_ZAPATILLA_ZAPATILLA_ST                     14.5215      2.460      5.903      0.000       9.700      19.343\n",
      "New_Cluster_GUANTE_ZAPATO_GUANTE FFAA                        -16.1645      5.776     -2.798      0.005     -27.486      -4.843\n",
      "New_Cluster_GUANTE_ZAPATO_PRESIDENT                          -36.3589      2.667    -13.632      0.000     -41.586     -31.131\n",
      "New_Cluster_GUANTE_ZAPATO_SUELA 1928                         -11.0124      2.828     -3.894      0.000     -16.555      -5.469\n",
      "New_Cluster_GUANTE_ZAPATO_ZAPATILLA_ST                        -9.5755     37.024     -0.259      0.796     -82.141      62.990\n",
      "New_Cluster_GUANTE_ZAPATO_ZAPATO                               3.1356      2.885      1.087      0.277      -2.519       8.790\n",
      "New_Cluster_GUANTE_ZAPATO_ZAPATO_CASUAL_CT                     5.7796      4.115      1.405      0.160      -2.285      13.844\n",
      "New_Cluster_GUANTE_ZAPATO_ZAPATO_CASUAL_ST                    11.5933      3.586      3.233      0.001       4.566      18.621\n",
      "New_Cluster_GUANTE_ZAPATO_ZAPATO_ESCOLAR                      -2.8437      2.659     -1.069      0.285      -8.056       2.368\n",
      "New_Cluster_GUANTE_ZAPATO_ZAPATO_FORMAL_CT                    34.6704      2.323     14.923      0.000      30.117      39.224\n",
      "New_Cluster_GUANTE_ZAPATO_ZAPATO_FORMAL_ST                    41.2863      2.255     18.306      0.000      36.866      45.707\n",
      "New_Cluster_GUANTE_ZAPATO_ZAPATO_INFORMAL_CT                  -2.8820      2.712     -1.063      0.288      -8.197       2.433\n",
      "New_Cluster_GUANTE_ZAPATO_ZAPATO_INFORMAL_ST                  68.6862      1.599     42.962      0.000      65.553      71.820\n",
      "New_Cluster_GUANTE_ZAPATO_ZAPATO_OUTDOOR                      28.8048      2.179     13.219      0.000      24.534      33.076\n",
      "ar.L1                                                          0.3350      0.067      4.980      0.000       0.203       0.467\n",
      "ar.L2                                                          0.0829      0.077      1.072      0.284      -0.069       0.234\n",
      "ar.L3                                                         -0.6213      0.056    -11.151      0.000      -0.730      -0.512\n",
      "ma.L1                                                         -1.0511      0.067    -15.603      0.000      -1.183      -0.919\n",
      "ma.L2                                                          0.0867      0.125      0.695      0.487      -0.158       0.331\n",
      "ma.L3                                                          0.6301      0.105      6.029      0.000       0.425       0.835\n",
      "ma.L4                                                         -0.4550      0.038    -12.035      0.000      -0.529      -0.381\n",
      "ma.L5                                                          0.0128      0.003      4.482      0.000       0.007       0.018\n",
      "sigma2                                                      1057.9109      1.482    713.687      0.000    1055.006    1060.816\n",
      "===================================================================================\n",
      "Ljung-Box (L1) (Q):                   9.47   Jarque-Bera (JB):          33571532.53\n",
      "Prob(Q):                              0.00   Prob(JB):                         0.00\n",
      "Heteroskedasticity (H):               1.78   Skew:                             5.77\n",
      "Prob(H) (two-sided):                  0.00   Kurtosis:                       114.19\n",
      "===================================================================================\n",
      "\n",
      "Warnings:\n",
      "[1] Covariance matrix calculated using the outer product of gradients (complex-step).\n",
      "[2] Covariance matrix is singular or near-singular, with condition number 4.51e+18. Standard errors may be unstable.\n"
     ]
    }
   ],
   "source": [
    "# Ajustar el modelo SARIMAX con regresores exógenos\n",
    "modelo = ARIMA(y0_train, order=(p, d, q), exog=X0_train)\n",
    "modelo_arima = modelo.fit()\n",
    "print(modelo_arima.summary())"
   ]
  },
  {
   "cell_type": "code",
   "execution_count": null,
   "metadata": {
    "colab": {
     "base_uri": "https://localhost:8080/"
    },
    "executionInfo": {
     "elapsed": 17,
     "status": "ok",
     "timestamp": 1742011861898,
     "user": {
      "displayName": "María Soledad Murias Palomer",
      "userId": "08750477303248371468"
     },
     "user_tz": 180
    },
    "id": "_cBG85hz7rlh",
    "outputId": "43f49bac-9b9d-4910-94ac-8133743a4aaf"
   },
   "outputs": [
    {
     "name": "stderr",
     "output_type": "stream",
     "text": [
      "/usr/local/lib/python3.11/dist-packages/statsmodels/tsa/base/tsa_model.py:837: ValueWarning: No supported index is available. Prediction results will be given with an integer index beginning at `start`.\n",
      "  return get_prediction_index(\n",
      "/usr/local/lib/python3.11/dist-packages/statsmodels/tsa/base/tsa_model.py:837: FutureWarning: No supported index is available. In the next version, calling this method in a model without a supported index will result in an exception.\n",
      "  return get_prediction_index(\n"
     ]
    }
   ],
   "source": [
    "n_periodos = 30  # Predecir 30 días adelante\n",
    "\n",
    "# Para predecir a futuro, necesitamos valores de los regresores también\n",
    "X0_forecast = X0_test.iloc[-n_periodos:]  # Tomamos los últimos valores conocidos como estimación\n",
    "y0_forecast = y0_test.iloc[-n_periodos:]\n",
    "\n",
    "forecast = modelo_arima.get_forecast(steps=n_periodos, exog=X0_forecast)\n",
    "predicciones = forecast.predicted_mean\n",
    "conf_int = forecast.conf_int()"
   ]
  },
  {
   "cell_type": "code",
   "execution_count": null,
   "metadata": {
    "colab": {
     "base_uri": "https://localhost:8080/",
     "height": 468
    },
    "executionInfo": {
     "elapsed": 295,
     "status": "ok",
     "timestamp": 1742011864784,
     "user": {
      "displayName": "María Soledad Murias Palomer",
      "userId": "08750477303248371468"
     },
     "user_tz": 180
    },
    "id": "tcXg6lEn7rlh",
    "outputId": "283df5b1-f254-480f-cf3a-f344d1ac3a7c"
   },
   "outputs": [
    {
     "data": {
      "image/png": "[encoded data removed]",
      "text/plain": [
       "<Figure size 1000x500 with 1 Axes>"
      ]
     },
     "metadata": {},
     "output_type": "display_data"
    }
   ],
   "source": [
    "# Graficar la predicción\n",
    "plt.figure(figsize=(10, 5))\n",
    "plt.plot(y0_forecast.reset_index(drop=True), label=\"Valores reales\", color='#1f77b4')\n",
    "plt.plot(predicciones.reset_index(drop=True), label=\"Predicción ARIMA\", color='#ff7f0e', linestyle=\"dashed\")\n",
    "plt.fill_between(pd.Series(range(n_periodos)).index, conf_int.iloc[:, 0], conf_int.iloc[:, 1], color='gray', alpha=0.2)\n",
    "plt.legend()\n",
    "plt.title('Comparación datos históricos y predicción realizada con ARIMA')\n",
    "plt.ylabel(\"Unidades\")\n",
    "plt.show()"
   ]
  },
  {
   "cell_type": "code",
   "execution_count": null,
   "metadata": {
    "colab": {
     "base_uri": "https://localhost:8080/"
    },
    "executionInfo": {
     "elapsed": 432,
     "status": "ok",
     "timestamp": 1742011940890,
     "user": {
      "displayName": "María Soledad Murias Palomer",
      "userId": "08750477303248371468"
     },
     "user_tz": 180
    },
    "id": "q06CAfBN_9v1",
    "outputId": "29e35595-82a6-423a-fd32-d00466434307"
   },
   "outputs": [
    {
     "name": "stderr",
     "output_type": "stream",
     "text": [
      "/usr/local/lib/python3.11/dist-packages/statsmodels/tsa/base/tsa_model.py:837: ValueWarning: No supported index is available. Prediction results will be given with an integer index beginning at `start`.\n",
      "  return get_prediction_index(\n",
      "/usr/local/lib/python3.11/dist-packages/statsmodels/tsa/base/tsa_model.py:837: FutureWarning: No supported index is available. In the next version, calling this method in a model without a supported index will result in an exception.\n",
      "  return get_prediction_index(\n"
     ]
    }
   ],
   "source": [
    "forecast2 = modelo_arima.get_forecast(steps=len(X0_test), exog=X0_test)\n",
    "predicciones2 = forecast2.predicted_mean"
   ]
  },
  {
   "cell_type": "code",
   "execution_count": null,
   "metadata": {
    "colab": {
     "base_uri": "https://localhost:8080/"
    },
    "executionInfo": {
     "elapsed": 14,
     "status": "ok",
     "timestamp": 1742012188625,
     "user": {
      "displayName": "María Soledad Murias Palomer",
      "userId": "08750477303248371468"
     },
     "user_tz": 180
    },
    "id": "HoQz7aRa7rlh",
    "outputId": "8d19436b-e35c-4f91-927c-7fef289aa789"
   },
   "outputs": [
    {
     "name": "stdout",
     "output_type": "stream",
     "text": [
      "R2: 0.2997\n",
      "RMSE: 33.9807\n",
      "MAPE: 12,848,653.3682\n"
     ]
    }
   ],
   "source": [
    "# Calcular métricas\n",
    "r2_arima, rmse_arima, mape_arima = calc_stat(y0_test.reset_index(drop=True), predicciones2.reset_index(drop=True))\n",
    "\n",
    "# Mostrar resultados\n",
    "print(f\"R2: {r2_arima:,.4f}\")\n",
    "print(f\"RMSE: {rmse_arima:,.4f}\")\n",
    "print(f\"MAPE: {mape_arima:,.4f}\")"
   ]
  },
  {
   "cell_type": "code",
   "execution_count": null,
   "metadata": {
    "colab": {
     "base_uri": "https://localhost:8080/"
    },
    "executionInfo": {
     "elapsed": 16,
     "status": "ok",
     "timestamp": 1742012351381,
     "user": {
      "displayName": "María Soledad Murias Palomer",
      "userId": "08750477303248371468"
     },
     "user_tz": 180
    },
    "id": "vj3pOqEjBkLr",
    "outputId": "6afb4e37-8add-4029-bd54-eeee0f650c8f"
   },
   "outputs": [
    {
     "name": "stdout",
     "output_type": "stream",
     "text": [
      "      y0_test    y0_pred          mape\n",
      "91          0  66.709572  6.670957e+09\n",
      "2149        0  41.651725  4.165172e+09\n",
      "135         0  33.101476  3.310148e+09\n",
      "697         0  29.957704  2.995770e+09\n",
      "1795        0  29.375054  2.937505e+09\n",
      "3021        0  28.381902  2.838190e+09\n",
      "175         0  24.021507  2.402151e+09\n",
      "2770        0  23.620763  2.362076e+09\n",
      "1848        0  19.010619  1.901062e+09\n",
      "146         0  18.917012  1.891701e+09\n",
      "1191        0  18.614492  1.861449e+09\n",
      "699         0  16.750758  1.675076e+09\n",
      "3921        0  16.658626  1.665863e+09\n",
      "1061        0  16.507484  1.650748e+09\n",
      "886         0  15.692148  1.569215e+09\n",
      "1407        0  14.799732  1.479973e+09\n",
      "189         0  14.625283  1.462528e+09\n",
      "493         0  14.238793  1.423879e+09\n",
      "99          0  14.102260  1.410226e+09\n",
      "3251        0  13.406515  1.340651e+09\n"
     ]
    }
   ],
   "source": [
    "epsilon = 1e-6\n",
    "\n",
    "df = pd.DataFrame({\n",
    "    'y0_test': y0_test.reset_index(drop=True),\n",
    "    'y0_pred': predicciones2.reset_index(drop=True),\n",
    "})\n",
    "\n",
    "df['mape'] = mape = np.abs((df['y0_test'] - df['y0_pred']) / (df['y0_test'] + epsilon)) * 100\n",
    "\n",
    "# Ordenar el DataFrame por MAPE de forma descendente\n",
    "df_sorted = df.sort_values(by='mape', ascending=False)\n",
    "print(df_sorted[:20])"
   ]
  },
  {
   "cell_type": "code",
   "execution_count": null,
   "metadata": {
    "colab": {
     "base_uri": "https://localhost:8080/"
    },
    "executionInfo": {
     "elapsed": 12,
     "status": "ok",
     "timestamp": 1742013501190,
     "user": {
      "displayName": "María Soledad Murias Palomer",
      "userId": "08750477303248371468"
     },
     "user_tz": 180
    },
    "id": "II342_AUxajM",
    "outputId": "6335cf58-583f-4b28-d504-db17f7f74024"
   },
   "outputs": [
    {
     "name": "stdout",
     "output_type": "stream",
     "text": [
      "MASE: 0.9183\n",
      "WAPE: 92.2636%\n"
     ]
    }
   ],
   "source": [
    "m = 1\n",
    "\n",
    "# Numerador: Error absoluto del modelo\n",
    "error_modelo = np.abs(y0_test.reset_index(drop=True) - predicciones2.reset_index(drop=True))\n",
    "\n",
    "# Denominador: Error absoluto del modelo naive (referencia), usando el valor del periodo anterior\n",
    "error_referencia = np.abs(predicciones2.reset_index(drop=True).values[m:] - predicciones2.reset_index(drop=True).values[:-m])\n",
    "\n",
    "# Calcular MASE (Media de los errores absolutos del modelo, escalados por el error de referencia)\n",
    "mase = error_modelo[m:].sum() / error_referencia.sum()\n",
    "\n",
    "print(f\"MASE: {mase:,.4f}\")\n",
    "\n",
    "# Calcular WAPE (error absoluto ponderado)\n",
    "error_absoluto = np.abs(y0_test.reset_index(drop=True) - predicciones2.reset_index(drop=True))  # Error absoluto\n",
    "suma_y_test = np.abs(y0_test.reset_index(drop=True)).sum()  # Suma de los valores reales\n",
    "\n",
    "# WAPE es el error absoluto total dividido por la suma de los valores reales\n",
    "wape = (error_absoluto.sum() / suma_y_test) * 100\n",
    "\n",
    "print(f\"WAPE: {wape:,.4f}%\")"
   ]
  },
  {
   "cell_type": "code",
   "execution_count": null,
   "metadata": {
    "id": "puW6-0HXw0YS"
   },
   "outputs": [],
   "source": [
    "import pickle\n",
    "with open(\"arima_model.pkl\", \"wb\") as f:\n",
    "    pickle.dump(modelo_arima, f)"
   ]
  },
  {
   "cell_type": "markdown",
   "metadata": {
    "id": "Z6lqs0d17rli"
   },
   "source": [
    "### XGBoost"
   ]
  },
  {
   "cell_type": "code",
   "execution_count": null,
   "metadata": {
    "id": "KmG7PUne7rli"
   },
   "outputs": [],
   "source": [
    "data_xgb = data_stnd.copy()"
   ]
  },
  {
   "cell_type": "code",
   "execution_count": null,
   "metadata": {
    "id": "gm3a953P7rli"
   },
   "outputs": [],
   "source": [
    "dtrain = data_xgb.iloc[:train]\n",
    "dval = data_xgb.iloc[train:val]\n",
    "dtest = data_xgb.iloc[val:]"
   ]
  },
  {
   "cell_type": "code",
   "execution_count": null,
   "metadata": {
    "id": "3SakEbrn7rli"
   },
   "outputs": [],
   "source": [
    "# Definir variables predictoras y objetivo\n",
    "X1_train = dtrain.drop(columns=['Uns'])\n",
    "y1_train = dtrain['Uns']\n",
    "X1_val = dval.drop(columns=['Uns'])\n",
    "y1_val = dval['Uns']\n",
    "X1_test = dtest.drop(columns=['Uns'])\n",
    "y1_test = dtest['Uns']"
   ]
  },
  {
   "cell_type": "code",
   "execution_count": null,
   "metadata": {
    "id": "EVHKJ5Cu7rli"
   },
   "outputs": [],
   "source": [
    "# Crear DMatrix para XGBoost\n",
    "dmtrain = xgb.DMatrix(X1_train, label=y1_train)\n",
    "dmval = xgb.DMatrix(X1_val, label=y1_val)\n",
    "dmtest = xgb.DMatrix(X1_test, label=y1_test)"
   ]
  },
  {
   "cell_type": "code",
   "execution_count": null,
   "metadata": {
    "id": "vlpvVQVc7rlj"
   },
   "outputs": [],
   "source": [
    "# Definir parámetros del modelo\n",
    "params = {\n",
    "    'objective': 'reg:squarederror',\n",
    "    'eval_metric': 'rmse',\n",
    "    'learning_rate': 0.05,\n",
    "    'max_depth': 4,\n",
    "    'subsample': 0.8,\n",
    "    'colsample_bytree': 0.8\n",
    "}"
   ]
  },
  {
   "cell_type": "code",
   "execution_count": null,
   "metadata": {
    "colab": {
     "base_uri": "https://localhost:8080/"
    },
    "executionInfo": {
     "elapsed": 11194,
     "status": "ok",
     "timestamp": 1742004642143,
     "user": {
      "displayName": "María Soledad Murias Palomer",
      "userId": "08750477303248371468"
     },
     "user_tz": 180
    },
    "id": "vY4wfAIo7rlj",
    "outputId": "67b1806c-24c7-4e82-f703-492cb90f05ea"
   },
   "outputs": [
    {
     "name": "stdout",
     "output_type": "stream",
     "text": [
      "[0]\ttest-rmse:52.06616\n",
      "[1]\ttest-rmse:51.63461\n",
      "[2]\ttest-rmse:51.18113\n",
      "[3]\ttest-rmse:50.96233\n",
      "[4]\ttest-rmse:50.11069\n",
      "[5]\ttest-rmse:49.47219\n",
      "[6]\ttest-rmse:48.77757\n",
      "[7]\ttest-rmse:48.06357\n",
      "[8]\ttest-rmse:47.46443\n",
      "[9]\ttest-rmse:46.83466\n",
      "[10]\ttest-rmse:46.50103\n",
      "[11]\ttest-rmse:45.99346\n",
      "[12]\ttest-rmse:45.58245\n",
      "[13]\ttest-rmse:45.25152\n",
      "[14]\ttest-rmse:44.97298\n",
      "[15]\ttest-rmse:44.74419\n",
      "[16]\ttest-rmse:44.48147\n",
      "[17]\ttest-rmse:44.02961\n",
      "[18]\ttest-rmse:43.51404\n",
      "[19]\ttest-rmse:43.12358\n",
      "[20]\ttest-rmse:42.74342\n",
      "[21]\ttest-rmse:42.59266\n",
      "[22]\ttest-rmse:42.27642\n",
      "[23]\ttest-rmse:41.88013\n",
      "[24]\ttest-rmse:41.55224\n",
      "[25]\ttest-rmse:41.23975\n",
      "[26]\ttest-rmse:40.94103\n",
      "[27]\ttest-rmse:40.66307\n",
      "[28]\ttest-rmse:40.41083\n",
      "[29]\ttest-rmse:40.07295\n",
      "[30]\ttest-rmse:39.84774\n",
      "[31]\ttest-rmse:39.69322\n",
      "[32]\ttest-rmse:39.59457\n",
      "[33]\ttest-rmse:39.32626\n",
      "[34]\ttest-rmse:39.17494\n",
      "[35]\ttest-rmse:39.00381\n",
      "[36]\ttest-rmse:38.78071\n",
      "[37]\ttest-rmse:38.59208\n",
      "[38]\ttest-rmse:38.35615\n",
      "[39]\ttest-rmse:38.15962\n",
      "[40]\ttest-rmse:38.05308\n",
      "[41]\ttest-rmse:37.91871\n",
      "[42]\ttest-rmse:37.72451\n",
      "[43]\ttest-rmse:37.57345\n",
      "[44]\ttest-rmse:37.45045\n",
      "[45]\ttest-rmse:37.30011\n",
      "[46]\ttest-rmse:37.15240\n",
      "[47]\ttest-rmse:36.94538\n",
      "[48]\ttest-rmse:36.81034\n",
      "[49]\ttest-rmse:36.68764\n",
      "[50]\ttest-rmse:36.57710\n",
      "[51]\ttest-rmse:36.42210\n",
      "[52]\ttest-rmse:36.25920\n",
      "[53]\ttest-rmse:36.10926\n",
      "[54]\ttest-rmse:36.00318\n",
      "[55]\ttest-rmse:35.88207\n",
      "[56]\ttest-rmse:35.78039\n",
      "[57]\ttest-rmse:35.63525\n",
      "[58]\ttest-rmse:35.56033\n",
      "[59]\ttest-rmse:35.46187\n",
      "[60]\ttest-rmse:35.41208\n",
      "[61]\ttest-rmse:35.35368\n",
      "[62]\ttest-rmse:35.32398\n",
      "[63]\ttest-rmse:35.15689\n",
      "[64]\ttest-rmse:35.09190\n",
      "[65]\ttest-rmse:34.98679\n",
      "[66]\ttest-rmse:34.92088\n",
      "[67]\ttest-rmse:34.74466\n",
      "[68]\ttest-rmse:34.72935\n",
      "[69]\ttest-rmse:34.69127\n",
      "[70]\ttest-rmse:34.52494\n",
      "[71]\ttest-rmse:34.42795\n",
      "[72]\ttest-rmse:34.35958\n",
      "[73]\ttest-rmse:34.24729\n",
      "[74]\ttest-rmse:34.12288\n",
      "[75]\ttest-rmse:34.07765\n",
      "[76]\ttest-rmse:34.03851\n",
      "[77]\ttest-rmse:33.99776\n",
      "[78]\ttest-rmse:33.95630\n",
      "[79]\ttest-rmse:33.92386\n",
      "[80]\ttest-rmse:33.88250\n",
      "[81]\ttest-rmse:33.80289\n",
      "[82]\ttest-rmse:33.74936\n",
      "[83]\ttest-rmse:33.63416\n",
      "[84]\ttest-rmse:33.58905\n",
      "[85]\ttest-rmse:33.54675\n",
      "[86]\ttest-rmse:33.43371\n",
      "[87]\ttest-rmse:33.37967\n",
      "[88]\ttest-rmse:33.24943\n",
      "[89]\ttest-rmse:33.12443\n",
      "[90]\ttest-rmse:33.10330\n",
      "[91]\ttest-rmse:33.06051\n",
      "[92]\ttest-rmse:33.01355\n",
      "[93]\ttest-rmse:32.93387\n",
      "[94]\ttest-rmse:32.89033\n",
      "[95]\ttest-rmse:32.86690\n",
      "[96]\ttest-rmse:32.81821\n",
      "[97]\ttest-rmse:32.57860\n",
      "[98]\ttest-rmse:32.54963\n",
      "[99]\ttest-rmse:32.47455\n",
      "[100]\ttest-rmse:32.43095\n",
      "[101]\ttest-rmse:32.36552\n",
      "[102]\ttest-rmse:32.34528\n",
      "[103]\ttest-rmse:32.31744\n",
      "[104]\ttest-rmse:32.27270\n",
      "[105]\ttest-rmse:32.20015\n",
      "[106]\ttest-rmse:32.17946\n",
      "[107]\ttest-rmse:32.14973\n",
      "[108]\ttest-rmse:32.01724\n",
      "[109]\ttest-rmse:31.96519\n",
      "[110]\ttest-rmse:31.89679\n",
      "[111]\ttest-rmse:31.86894\n",
      "[112]\ttest-rmse:31.84330\n",
      "[113]\ttest-rmse:31.74631\n",
      "[114]\ttest-rmse:31.65519\n",
      "[115]\ttest-rmse:31.63479\n",
      "[116]\ttest-rmse:31.61902\n",
      "[117]\ttest-rmse:31.60317\n",
      "[118]\ttest-rmse:31.56373\n",
      "[119]\ttest-rmse:31.52843\n",
      "[120]\ttest-rmse:31.43976\n",
      "[121]\ttest-rmse:31.39151\n",
      "[122]\ttest-rmse:31.31073\n",
      "[123]\ttest-rmse:31.26891\n",
      "[124]\ttest-rmse:31.24265\n",
      "[125]\ttest-rmse:31.19888\n",
      "[126]\ttest-rmse:31.12759\n",
      "[127]\ttest-rmse:31.08018\n",
      "[128]\ttest-rmse:31.04813\n",
      "[129]\ttest-rmse:31.02141\n",
      "[130]\ttest-rmse:30.97491\n",
      "[131]\ttest-rmse:30.87959\n",
      "[132]\ttest-rmse:30.81662\n",
      "[133]\ttest-rmse:30.74282\n",
      "[134]\ttest-rmse:30.71511\n",
      "[135]\ttest-rmse:30.67236\n",
      "[136]\ttest-rmse:30.61563\n",
      "[137]\ttest-rmse:30.59604\n",
      "[138]\ttest-rmse:30.55436\n",
      "[139]\ttest-rmse:30.53784\n",
      "[140]\ttest-rmse:30.51586\n",
      "[141]\ttest-rmse:30.50479\n",
      "[142]\ttest-rmse:30.47513\n",
      "[143]\ttest-rmse:30.46492\n",
      "[144]\ttest-rmse:30.43027\n",
      "[145]\ttest-rmse:30.40268\n",
      "[146]\ttest-rmse:30.36123\n",
      "[147]\ttest-rmse:30.27867\n",
      "[148]\ttest-rmse:30.21798\n",
      "[149]\ttest-rmse:30.20134\n",
      "[150]\ttest-rmse:30.18387\n",
      "[151]\ttest-rmse:30.12469\n",
      "[152]\ttest-rmse:30.07296\n",
      "[153]\ttest-rmse:30.02924\n",
      "[154]\ttest-rmse:29.95346\n",
      "[155]\ttest-rmse:29.90098\n",
      "[156]\ttest-rmse:29.84769\n",
      "[157]\ttest-rmse:29.81593\n",
      "[158]\ttest-rmse:29.79039\n",
      "[159]\ttest-rmse:29.77924\n",
      "[160]\ttest-rmse:29.73940\n",
      "[161]\ttest-rmse:29.71207\n",
      "[162]\ttest-rmse:29.68575\n",
      "[163]\ttest-rmse:29.65009\n",
      "[164]\ttest-rmse:29.62656\n",
      "[165]\ttest-rmse:29.61583\n",
      "[166]\ttest-rmse:29.60177\n",
      "[167]\ttest-rmse:29.57023\n",
      "[168]\ttest-rmse:29.54876\n",
      "[169]\ttest-rmse:29.50825\n",
      "[170]\ttest-rmse:29.49277\n",
      "[171]\ttest-rmse:29.48479\n",
      "[172]\ttest-rmse:29.47532\n",
      "[173]\ttest-rmse:29.45679\n",
      "[174]\ttest-rmse:29.42537\n",
      "[175]\ttest-rmse:29.39043\n",
      "[176]\ttest-rmse:29.33842\n",
      "[177]\ttest-rmse:29.31963\n",
      "[178]\ttest-rmse:29.27922\n",
      "[179]\ttest-rmse:29.17472\n",
      "[180]\ttest-rmse:29.14034\n",
      "[181]\ttest-rmse:29.12937\n",
      "[182]\ttest-rmse:29.05717\n",
      "[183]\ttest-rmse:29.02570\n",
      "[184]\ttest-rmse:28.99170\n",
      "[185]\ttest-rmse:28.97966\n",
      "[186]\ttest-rmse:28.93463\n",
      "[187]\ttest-rmse:28.91044\n",
      "[188]\ttest-rmse:28.90364\n",
      "[189]\ttest-rmse:28.89304\n",
      "[190]\ttest-rmse:28.88503\n",
      "[191]\ttest-rmse:28.87377\n",
      "[192]\ttest-rmse:28.85910\n",
      "[193]\ttest-rmse:28.83879\n",
      "[194]\ttest-rmse:28.79042\n",
      "[195]\ttest-rmse:28.74239\n",
      "[196]\ttest-rmse:28.69323\n",
      "[197]\ttest-rmse:28.67747\n",
      "[198]\ttest-rmse:28.68470\n",
      "[199]\ttest-rmse:28.66017\n",
      "[200]\ttest-rmse:28.62556\n",
      "[201]\ttest-rmse:28.60422\n",
      "[202]\ttest-rmse:28.58477\n",
      "[203]\ttest-rmse:28.53368\n",
      "[204]\ttest-rmse:28.46946\n",
      "[205]\ttest-rmse:28.46452\n",
      "[206]\ttest-rmse:28.44151\n",
      "[207]\ttest-rmse:28.42733\n",
      "[208]\ttest-rmse:28.39639\n",
      "[209]\ttest-rmse:28.36826\n",
      "[210]\ttest-rmse:28.31902\n",
      "[211]\ttest-rmse:28.27464\n",
      "[212]\ttest-rmse:28.24087\n",
      "[213]\ttest-rmse:28.22440\n",
      "[214]\ttest-rmse:28.16756\n",
      "[215]\ttest-rmse:28.15403\n",
      "[216]\ttest-rmse:28.16608\n",
      "[217]\ttest-rmse:28.09596\n",
      "[218]\ttest-rmse:28.06510\n",
      "[219]\ttest-rmse:28.06170\n",
      "[220]\ttest-rmse:28.05194\n",
      "[221]\ttest-rmse:27.99394\n",
      "[222]\ttest-rmse:27.98251\n",
      "[223]\ttest-rmse:27.93709\n",
      "[224]\ttest-rmse:27.90784\n",
      "[225]\ttest-rmse:27.86980\n",
      "[226]\ttest-rmse:27.86509\n",
      "[227]\ttest-rmse:27.85922\n",
      "[228]\ttest-rmse:27.85213\n",
      "[229]\ttest-rmse:27.80881\n",
      "[230]\ttest-rmse:27.78221\n",
      "[231]\ttest-rmse:27.76457\n",
      "[232]\ttest-rmse:27.75551\n",
      "[233]\ttest-rmse:27.68474\n",
      "[234]\ttest-rmse:27.67438\n",
      "[235]\ttest-rmse:27.66382\n",
      "[236]\ttest-rmse:27.65656\n",
      "[237]\ttest-rmse:27.63279\n",
      "[238]\ttest-rmse:27.62664\n",
      "[239]\ttest-rmse:27.60526\n",
      "[240]\ttest-rmse:27.60508\n",
      "[241]\ttest-rmse:27.55481\n",
      "[242]\ttest-rmse:27.51697\n",
      "[243]\ttest-rmse:27.48851\n",
      "[244]\ttest-rmse:27.47808\n",
      "[245]\ttest-rmse:27.46150\n",
      "[246]\ttest-rmse:27.43164\n",
      "[247]\ttest-rmse:27.37461\n",
      "[248]\ttest-rmse:27.34546\n",
      "[249]\ttest-rmse:27.31193\n",
      "[250]\ttest-rmse:27.27959\n",
      "[251]\ttest-rmse:27.24221\n",
      "[252]\ttest-rmse:27.23270\n",
      "[253]\ttest-rmse:27.21366\n",
      "[254]\ttest-rmse:27.21312\n",
      "[255]\ttest-rmse:27.19324\n",
      "[256]\ttest-rmse:27.16972\n",
      "[257]\ttest-rmse:27.14922\n",
      "[258]\ttest-rmse:27.12174\n",
      "[259]\ttest-rmse:27.11102\n",
      "[260]\ttest-rmse:27.09881\n",
      "[261]\ttest-rmse:27.07096\n",
      "[262]\ttest-rmse:27.05283\n",
      "[263]\ttest-rmse:27.02057\n",
      "[264]\ttest-rmse:27.01739\n",
      "[265]\ttest-rmse:27.01645\n",
      "[266]\ttest-rmse:26.99079\n",
      "[267]\ttest-rmse:26.95755\n",
      "[268]\ttest-rmse:26.95039\n",
      "[269]\ttest-rmse:26.92836\n",
      "[270]\ttest-rmse:26.92339\n",
      "[271]\ttest-rmse:26.91446\n",
      "[272]\ttest-rmse:26.90758\n",
      "[273]\ttest-rmse:26.90063\n",
      "[274]\ttest-rmse:26.89255\n",
      "[275]\ttest-rmse:26.87405\n",
      "[276]\ttest-rmse:26.83722\n",
      "[277]\ttest-rmse:26.83018\n",
      "[278]\ttest-rmse:26.81672\n",
      "[279]\ttest-rmse:26.80008\n",
      "[280]\ttest-rmse:26.76195\n",
      "[281]\ttest-rmse:26.75477\n",
      "[282]\ttest-rmse:26.74595\n",
      "[283]\ttest-rmse:26.73364\n",
      "[284]\ttest-rmse:26.72798\n",
      "[285]\ttest-rmse:26.70587\n",
      "[286]\ttest-rmse:26.69899\n",
      "[287]\ttest-rmse:26.68894\n",
      "[288]\ttest-rmse:26.67701\n",
      "[289]\ttest-rmse:26.66645\n",
      "[290]\ttest-rmse:26.65743\n",
      "[291]\ttest-rmse:26.66390\n",
      "[292]\ttest-rmse:26.65301\n",
      "[293]\ttest-rmse:26.64613\n",
      "[294]\ttest-rmse:26.63356\n",
      "[295]\ttest-rmse:26.62880\n",
      "[296]\ttest-rmse:26.60648\n",
      "[297]\ttest-rmse:26.60214\n",
      "[298]\ttest-rmse:26.56778\n",
      "[299]\ttest-rmse:26.53664\n",
      "[300]\ttest-rmse:26.51810\n",
      "[301]\ttest-rmse:26.50502\n",
      "[302]\ttest-rmse:26.47631\n",
      "[303]\ttest-rmse:26.46114\n",
      "[304]\ttest-rmse:26.42612\n",
      "[305]\ttest-rmse:26.42441\n",
      "[306]\ttest-rmse:26.41709\n",
      "[307]\ttest-rmse:26.41337\n",
      "[308]\ttest-rmse:26.41152\n",
      "[309]\ttest-rmse:26.39388\n",
      "[310]\ttest-rmse:26.37059\n",
      "[311]\ttest-rmse:26.34114\n",
      "[312]\ttest-rmse:26.30353\n",
      "[313]\ttest-rmse:26.29713\n",
      "[314]\ttest-rmse:26.28952\n",
      "[315]\ttest-rmse:26.26846\n",
      "[316]\ttest-rmse:26.25930\n",
      "[317]\ttest-rmse:26.22760\n",
      "[318]\ttest-rmse:26.20485\n",
      "[319]\ttest-rmse:26.19799\n",
      "[320]\ttest-rmse:26.19426\n",
      "[321]\ttest-rmse:26.18452\n",
      "[322]\ttest-rmse:26.18119\n",
      "[323]\ttest-rmse:26.13919\n",
      "[324]\ttest-rmse:26.12729\n",
      "[325]\ttest-rmse:26.11884\n",
      "[326]\ttest-rmse:26.10542\n",
      "[327]\ttest-rmse:26.08020\n",
      "[328]\ttest-rmse:26.07238\n",
      "[329]\ttest-rmse:26.06360\n",
      "[330]\ttest-rmse:26.05525\n",
      "[331]\ttest-rmse:26.00773\n",
      "[332]\ttest-rmse:26.00224\n",
      "[333]\ttest-rmse:25.99372\n",
      "[334]\ttest-rmse:25.99088\n",
      "[335]\ttest-rmse:25.96906\n",
      "[336]\ttest-rmse:25.96431\n",
      "[337]\ttest-rmse:25.95793\n",
      "[338]\ttest-rmse:25.93855\n",
      "[339]\ttest-rmse:25.90538\n",
      "[340]\ttest-rmse:25.89994\n",
      "[341]\ttest-rmse:25.89846\n",
      "[342]\ttest-rmse:25.89661\n",
      "[343]\ttest-rmse:25.87372\n",
      "[344]\ttest-rmse:25.86077\n",
      "[345]\ttest-rmse:25.87563\n",
      "[346]\ttest-rmse:25.86725\n",
      "[347]\ttest-rmse:25.85988\n",
      "[348]\ttest-rmse:25.84860\n",
      "[349]\ttest-rmse:25.83516\n",
      "[350]\ttest-rmse:25.83071\n",
      "[351]\ttest-rmse:25.82312\n",
      "[352]\ttest-rmse:25.81002\n",
      "[353]\ttest-rmse:25.78960\n",
      "[354]\ttest-rmse:25.79228\n",
      "[355]\ttest-rmse:25.75833\n",
      "[356]\ttest-rmse:25.74102\n",
      "[357]\ttest-rmse:25.73879\n",
      "[358]\ttest-rmse:25.72830\n",
      "[359]\ttest-rmse:25.70601\n",
      "[360]\ttest-rmse:25.70175\n",
      "[361]\ttest-rmse:25.68423\n",
      "[362]\ttest-rmse:25.67727\n",
      "[363]\ttest-rmse:25.66920\n",
      "[364]\ttest-rmse:25.66135\n",
      "[365]\ttest-rmse:25.65234\n",
      "[366]\ttest-rmse:25.62289\n",
      "[367]\ttest-rmse:25.61357\n",
      "[368]\ttest-rmse:25.58981\n",
      "[369]\ttest-rmse:25.58334\n",
      "[370]\ttest-rmse:25.57316\n",
      "[371]\ttest-rmse:25.56858\n",
      "[372]\ttest-rmse:25.53975\n",
      "[373]\ttest-rmse:25.53837\n",
      "[374]\ttest-rmse:25.53786\n",
      "[375]\ttest-rmse:25.53411\n",
      "[376]\ttest-rmse:25.53074\n",
      "[377]\ttest-rmse:25.52090\n",
      "[378]\ttest-rmse:25.50342\n",
      "[379]\ttest-rmse:25.50480\n",
      "[380]\ttest-rmse:25.50319\n",
      "[381]\ttest-rmse:25.49683\n",
      "[382]\ttest-rmse:25.50379\n",
      "[383]\ttest-rmse:25.49614\n",
      "[384]\ttest-rmse:25.47543\n",
      "[385]\ttest-rmse:25.46644\n",
      "[386]\ttest-rmse:25.45857\n",
      "[387]\ttest-rmse:25.42828\n",
      "[388]\ttest-rmse:25.42507\n",
      "[389]\ttest-rmse:25.40898\n",
      "[390]\ttest-rmse:25.40441\n",
      "[391]\ttest-rmse:25.39739\n",
      "[392]\ttest-rmse:25.37693\n",
      "[393]\ttest-rmse:25.35451\n",
      "[394]\ttest-rmse:25.34767\n",
      "[395]\ttest-rmse:25.32906\n",
      "[396]\ttest-rmse:25.31758\n",
      "[397]\ttest-rmse:25.28717\n",
      "[398]\ttest-rmse:25.27937\n",
      "[399]\ttest-rmse:25.27340\n",
      "[400]\ttest-rmse:25.27038\n",
      "[401]\ttest-rmse:25.26538\n",
      "[402]\ttest-rmse:25.25128\n",
      "[403]\ttest-rmse:25.25134\n",
      "[404]\ttest-rmse:25.24235\n",
      "[405]\ttest-rmse:25.24321\n",
      "[406]\ttest-rmse:25.22450\n",
      "[407]\ttest-rmse:25.20942\n",
      "[408]\ttest-rmse:25.20053\n",
      "[409]\ttest-rmse:25.19877\n",
      "[410]\ttest-rmse:25.17750\n",
      "[411]\ttest-rmse:25.17126\n",
      "[412]\ttest-rmse:25.17471\n",
      "[413]\ttest-rmse:25.16903\n",
      "[414]\ttest-rmse:25.16271\n",
      "[415]\ttest-rmse:25.15853\n",
      "[416]\ttest-rmse:25.14826\n",
      "[417]\ttest-rmse:25.15528\n",
      "[418]\ttest-rmse:25.14351\n",
      "[419]\ttest-rmse:25.14409\n",
      "[420]\ttest-rmse:25.13954\n",
      "[421]\ttest-rmse:25.13217\n",
      "[422]\ttest-rmse:25.13730\n",
      "[423]\ttest-rmse:25.12228\n",
      "[424]\ttest-rmse:25.09829\n",
      "[425]\ttest-rmse:25.09272\n",
      "[426]\ttest-rmse:25.09421\n",
      "[427]\ttest-rmse:25.08930\n",
      "[428]\ttest-rmse:25.08647\n",
      "[429]\ttest-rmse:25.06955\n",
      "[430]\ttest-rmse:25.04083\n",
      "[431]\ttest-rmse:25.03662\n",
      "[432]\ttest-rmse:25.04167\n",
      "[433]\ttest-rmse:25.03784\n",
      "[434]\ttest-rmse:25.03387\n",
      "[435]\ttest-rmse:25.02878\n",
      "[436]\ttest-rmse:25.02134\n",
      "[437]\ttest-rmse:25.01092\n",
      "[438]\ttest-rmse:24.99919\n",
      "[439]\ttest-rmse:24.99514\n",
      "[440]\ttest-rmse:24.99421\n",
      "[441]\ttest-rmse:24.99024\n",
      "[442]\ttest-rmse:24.97318\n",
      "[443]\ttest-rmse:24.97007\n",
      "[444]\ttest-rmse:24.95672\n",
      "[445]\ttest-rmse:24.94679\n",
      "[446]\ttest-rmse:24.92422\n",
      "[447]\ttest-rmse:24.92238\n",
      "[448]\ttest-rmse:24.92018\n",
      "[449]\ttest-rmse:24.91463\n",
      "[450]\ttest-rmse:24.90021\n",
      "[451]\ttest-rmse:24.86852\n",
      "[452]\ttest-rmse:24.87014\n",
      "[453]\ttest-rmse:24.84899\n",
      "[454]\ttest-rmse:24.84765\n",
      "[455]\ttest-rmse:24.85523\n",
      "[456]\ttest-rmse:24.84325\n",
      "[457]\ttest-rmse:24.84085\n",
      "[458]\ttest-rmse:24.83268\n",
      "[459]\ttest-rmse:24.81533\n",
      "[460]\ttest-rmse:24.80217\n",
      "[461]\ttest-rmse:24.78875\n",
      "[462]\ttest-rmse:24.78207\n",
      "[463]\ttest-rmse:24.76731\n",
      "[464]\ttest-rmse:24.75933\n",
      "[465]\ttest-rmse:24.75629\n",
      "[466]\ttest-rmse:24.75498\n",
      "[467]\ttest-rmse:24.74688\n",
      "[468]\ttest-rmse:24.73409\n",
      "[469]\ttest-rmse:24.72664\n",
      "[470]\ttest-rmse:24.71015\n",
      "[471]\ttest-rmse:24.70507\n",
      "[472]\ttest-rmse:24.69824\n",
      "[473]\ttest-rmse:24.69735\n",
      "[474]\ttest-rmse:24.69403\n",
      "[475]\ttest-rmse:24.66821\n",
      "[476]\ttest-rmse:24.67971\n",
      "[477]\ttest-rmse:24.66442\n",
      "[478]\ttest-rmse:24.65977\n",
      "[479]\ttest-rmse:24.66203\n",
      "[480]\ttest-rmse:24.65705\n",
      "[481]\ttest-rmse:24.64011\n",
      "[482]\ttest-rmse:24.63419\n",
      "[483]\ttest-rmse:24.62934\n",
      "[484]\ttest-rmse:24.62246\n",
      "[485]\ttest-rmse:24.62614\n",
      "[486]\ttest-rmse:24.60189\n",
      "[487]\ttest-rmse:24.59356\n",
      "[488]\ttest-rmse:24.59133\n",
      "[489]\ttest-rmse:24.56860\n",
      "[490]\ttest-rmse:24.57752\n",
      "[491]\ttest-rmse:24.57157\n",
      "[492]\ttest-rmse:24.57078\n",
      "[493]\ttest-rmse:24.55418\n",
      "[494]\ttest-rmse:24.54231\n",
      "[495]\ttest-rmse:24.53560\n",
      "[496]\ttest-rmse:24.53175\n",
      "[497]\ttest-rmse:24.53006\n",
      "[498]\ttest-rmse:24.52072\n",
      "[499]\ttest-rmse:24.50224\n",
      "[500]\ttest-rmse:24.51152\n",
      "[501]\ttest-rmse:24.50855\n",
      "[502]\ttest-rmse:24.49957\n",
      "[503]\ttest-rmse:24.51095\n",
      "[504]\ttest-rmse:24.51495\n",
      "[505]\ttest-rmse:24.51336\n",
      "[506]\ttest-rmse:24.51035\n",
      "[507]\ttest-rmse:24.51151\n",
      "[508]\ttest-rmse:24.50632\n",
      "[509]\ttest-rmse:24.50215\n",
      "[510]\ttest-rmse:24.49803\n",
      "[511]\ttest-rmse:24.49730\n",
      "[512]\ttest-rmse:24.48400\n",
      "[513]\ttest-rmse:24.48122\n",
      "[514]\ttest-rmse:24.47737\n",
      "[515]\ttest-rmse:24.47565\n",
      "[516]\ttest-rmse:24.47565\n",
      "[517]\ttest-rmse:24.46368\n",
      "[518]\ttest-rmse:24.47682\n",
      "[519]\ttest-rmse:24.46752\n",
      "[520]\ttest-rmse:24.45608\n",
      "[521]\ttest-rmse:24.44437\n",
      "[522]\ttest-rmse:24.43576\n",
      "[523]\ttest-rmse:24.42551\n",
      "[524]\ttest-rmse:24.41382\n",
      "[525]\ttest-rmse:24.40810\n",
      "[526]\ttest-rmse:24.40202\n",
      "[527]\ttest-rmse:24.39657\n",
      "[528]\ttest-rmse:24.38636\n",
      "[529]\ttest-rmse:24.38331\n",
      "[530]\ttest-rmse:24.38008\n",
      "[531]\ttest-rmse:24.37541\n",
      "[532]\ttest-rmse:24.37235\n",
      "[533]\ttest-rmse:24.36663\n",
      "[534]\ttest-rmse:24.36273\n",
      "[535]\ttest-rmse:24.35444\n",
      "[536]\ttest-rmse:24.35091\n",
      "[537]\ttest-rmse:24.34893\n",
      "[538]\ttest-rmse:24.34648\n",
      "[539]\ttest-rmse:24.33700\n",
      "[540]\ttest-rmse:24.33315\n",
      "[541]\ttest-rmse:24.32761\n",
      "[542]\ttest-rmse:24.32575\n",
      "[543]\ttest-rmse:24.32133\n",
      "[544]\ttest-rmse:24.30975\n",
      "[545]\ttest-rmse:24.30872\n",
      "[546]\ttest-rmse:24.30384\n",
      "[547]\ttest-rmse:24.30328\n",
      "[548]\ttest-rmse:24.30465\n",
      "[549]\ttest-rmse:24.30223\n",
      "[550]\ttest-rmse:24.28598\n",
      "[551]\ttest-rmse:24.27891\n",
      "[552]\ttest-rmse:24.29052\n",
      "[553]\ttest-rmse:24.28802\n",
      "[554]\ttest-rmse:24.27367\n",
      "[555]\ttest-rmse:24.26542\n",
      "[556]\ttest-rmse:24.26125\n",
      "[557]\ttest-rmse:24.27372\n",
      "[558]\ttest-rmse:24.27316\n",
      "[559]\ttest-rmse:24.27261\n",
      "[560]\ttest-rmse:24.27201\n",
      "[561]\ttest-rmse:24.26752\n",
      "[562]\ttest-rmse:24.26653\n",
      "[563]\ttest-rmse:24.25009\n",
      "[564]\ttest-rmse:24.24550\n",
      "[565]\ttest-rmse:24.24314\n",
      "[566]\ttest-rmse:24.23642\n",
      "[567]\ttest-rmse:24.22444\n",
      "[568]\ttest-rmse:24.20671\n",
      "[569]\ttest-rmse:24.19824\n",
      "[570]\ttest-rmse:24.18445\n",
      "[571]\ttest-rmse:24.19677\n",
      "[572]\ttest-rmse:24.19270\n",
      "[573]\ttest-rmse:24.18890\n",
      "[574]\ttest-rmse:24.18581\n",
      "[575]\ttest-rmse:24.18053\n",
      "[576]\ttest-rmse:24.18051\n",
      "[577]\ttest-rmse:24.17997\n",
      "[578]\ttest-rmse:24.18208\n",
      "[579]\ttest-rmse:24.17657\n",
      "[580]\ttest-rmse:24.17517\n",
      "[581]\ttest-rmse:24.15713\n",
      "[582]\ttest-rmse:24.15036\n",
      "[583]\ttest-rmse:24.14220\n",
      "[584]\ttest-rmse:24.13835\n",
      "[585]\ttest-rmse:24.14387\n",
      "[586]\ttest-rmse:24.14212\n",
      "[587]\ttest-rmse:24.14047\n",
      "[588]\ttest-rmse:24.13813\n",
      "[589]\ttest-rmse:24.12506\n",
      "[590]\ttest-rmse:24.12335\n",
      "[591]\ttest-rmse:24.12257\n",
      "[592]\ttest-rmse:24.12028\n",
      "[593]\ttest-rmse:24.12179\n",
      "[594]\ttest-rmse:24.11867\n",
      "[595]\ttest-rmse:24.11933\n",
      "[596]\ttest-rmse:24.11881\n",
      "[597]\ttest-rmse:24.11817\n",
      "[598]\ttest-rmse:24.11260\n",
      "[599]\ttest-rmse:24.11138\n",
      "[600]\ttest-rmse:24.09961\n",
      "[601]\ttest-rmse:24.09200\n",
      "[602]\ttest-rmse:24.08428\n",
      "[603]\ttest-rmse:24.08262\n",
      "[604]\ttest-rmse:24.08081\n",
      "[605]\ttest-rmse:24.07465\n",
      "[606]\ttest-rmse:24.07379\n",
      "[607]\ttest-rmse:24.06048\n",
      "[608]\ttest-rmse:24.05801\n",
      "[609]\ttest-rmse:24.05221\n",
      "[610]\ttest-rmse:24.05159\n",
      "[611]\ttest-rmse:24.04447\n",
      "[612]\ttest-rmse:24.04879\n",
      "[613]\ttest-rmse:24.04236\n",
      "[614]\ttest-rmse:24.04259\n",
      "[615]\ttest-rmse:24.03509\n",
      "[616]\ttest-rmse:24.03391\n",
      "[617]\ttest-rmse:24.03027\n",
      "[618]\ttest-rmse:24.02634\n",
      "[619]\ttest-rmse:24.02596\n",
      "[620]\ttest-rmse:24.02027\n",
      "[621]\ttest-rmse:24.00786\n",
      "[622]\ttest-rmse:23.99900\n",
      "[623]\ttest-rmse:24.00122\n",
      "[624]\ttest-rmse:23.99546\n",
      "[625]\ttest-rmse:24.00260\n",
      "[626]\ttest-rmse:24.00060\n",
      "[627]\ttest-rmse:23.98504\n",
      "[628]\ttest-rmse:23.98180\n",
      "[629]\ttest-rmse:23.97571\n",
      "[630]\ttest-rmse:23.97381\n",
      "[631]\ttest-rmse:23.95963\n",
      "[632]\ttest-rmse:23.95805\n",
      "[633]\ttest-rmse:23.96009\n",
      "[634]\ttest-rmse:23.95705\n",
      "[635]\ttest-rmse:23.94772\n",
      "[636]\ttest-rmse:23.94233\n",
      "[637]\ttest-rmse:23.93794\n",
      "[638]\ttest-rmse:23.93538\n",
      "[639]\ttest-rmse:23.95161\n",
      "[640]\ttest-rmse:23.94904\n",
      "[641]\ttest-rmse:23.94078\n",
      "[642]\ttest-rmse:23.93956\n",
      "[643]\ttest-rmse:23.93616\n",
      "[644]\ttest-rmse:23.92895\n",
      "[645]\ttest-rmse:23.92782\n",
      "[646]\ttest-rmse:23.92490\n",
      "[647]\ttest-rmse:23.91315\n",
      "[648]\ttest-rmse:23.90245\n",
      "[649]\ttest-rmse:23.90087\n",
      "[650]\ttest-rmse:23.91632\n",
      "[651]\ttest-rmse:23.91652\n",
      "[652]\ttest-rmse:23.91114\n",
      "[653]\ttest-rmse:23.90564\n",
      "[654]\ttest-rmse:23.90400\n",
      "[655]\ttest-rmse:23.90105\n",
      "[656]\ttest-rmse:23.90064\n",
      "[657]\ttest-rmse:23.88533\n",
      "[658]\ttest-rmse:23.88347\n",
      "[659]\ttest-rmse:23.87863\n",
      "[660]\ttest-rmse:23.87754\n",
      "[661]\ttest-rmse:23.87322\n",
      "[662]\ttest-rmse:23.87112\n",
      "[663]\ttest-rmse:23.86315\n",
      "[664]\ttest-rmse:23.85420\n",
      "[665]\ttest-rmse:23.85222\n",
      "[666]\ttest-rmse:23.85034\n",
      "[667]\ttest-rmse:23.84504\n",
      "[668]\ttest-rmse:23.84186\n",
      "[669]\ttest-rmse:23.83348\n",
      "[670]\ttest-rmse:23.81654\n",
      "[671]\ttest-rmse:23.80981\n",
      "[672]\ttest-rmse:23.80772\n",
      "[673]\ttest-rmse:23.80761\n",
      "[674]\ttest-rmse:23.78897\n",
      "[675]\ttest-rmse:23.78679\n",
      "[676]\ttest-rmse:23.78588\n",
      "[677]\ttest-rmse:23.78922\n",
      "[678]\ttest-rmse:23.79097\n",
      "[679]\ttest-rmse:23.78750\n",
      "[680]\ttest-rmse:23.78924\n",
      "[681]\ttest-rmse:23.80699\n",
      "[682]\ttest-rmse:23.80379\n",
      "[683]\ttest-rmse:23.79438\n",
      "[684]\ttest-rmse:23.81566\n",
      "[685]\ttest-rmse:23.81425\n"
     ]
    }
   ],
   "source": [
    "# Entrenar el modelo\n",
    "model = xgb.train(params, dmtrain, num_boost_round=1000, evals=[(dmval, 'test')], early_stopping_rounds=10)"
   ]
  },
  {
   "cell_type": "code",
   "execution_count": null,
   "metadata": {
    "colab": {
     "base_uri": "https://localhost:8080/"
    },
    "executionInfo": {
     "elapsed": 7,
     "status": "ok",
     "timestamp": 1742007002370,
     "user": {
      "displayName": "María Soledad Murias Palomer",
      "userId": "08750477303248371468"
     },
     "user_tz": 180
    },
    "id": "gd770eFX7rlj",
    "outputId": "df1a532c-8921-4e4f-bfd3-4a80e858ef73"
   },
   "outputs": [
    {
     "name": "stdout",
     "output_type": "stream",
     "text": [
      "R2: 0.7919\n",
      "RMSE: 18.5244\n",
      "MAPE: 4,284,138.9773\n"
     ]
    }
   ],
   "source": [
    "# Predicción\n",
    "y1_pred = model.predict(dmtest)\n",
    "\n",
    "r2_xgb, rmse_xgb, mape_xgb = calc_stat(y1_test, y1_pred)\n",
    "\n",
    "# Mostrar resultados\n",
    "print(f\"R2: {r2_xgb:,.4f}\")\n",
    "print(f\"RMSE: {rmse_xgb:,.4f}\")\n",
    "print(f\"MAPE: {mape_xgb:,.4f}\")"
   ]
  },
  {
   "cell_type": "code",
   "execution_count": null,
   "metadata": {
    "colab": {
     "base_uri": "https://localhost:8080/"
    },
    "executionInfo": {
     "elapsed": 13,
     "status": "ok",
     "timestamp": 1742009946178,
     "user": {
      "displayName": "María Soledad Murias Palomer",
      "userId": "08750477303248371468"
     },
     "user_tz": 180
    },
    "id": "63iFBhoSyXuH",
    "outputId": "c5cb87e2-39b2-4b6a-9eab-5cf2174d798a"
   },
   "outputs": [
    {
     "name": "stdout",
     "output_type": "stream",
     "text": [
      "            y1_test    y1_pred          mape\n",
      "Fecha                                       \n",
      "2025-01-03        0  11.124262  1.112426e+09\n",
      "2025-01-04        0   9.519952  9.519952e+08\n",
      "2025-01-18        0   8.655972  8.655972e+08\n",
      "2025-01-10        0   8.487270  8.487270e+08\n",
      "2025-01-04        0   8.419896  8.419896e+08\n",
      "2025-02-15        0   8.191298  8.191298e+08\n",
      "2025-02-08        0   8.191298  8.191298e+08\n",
      "2025-02-04        0  -7.947913  7.947913e+08\n",
      "2025-02-02        0  -7.403847  7.403847e+08\n",
      "2025-01-23        0  -7.271849  7.271849e+08\n",
      "2025-02-20        0  -7.016812  7.016812e+08\n",
      "2025-01-03        0   6.676318  6.676318e+08\n",
      "2025-02-02        0  -6.562340  6.562340e+08\n",
      "2025-02-05        0  -5.934221  5.934221e+08\n",
      "2025-01-14        0  -5.871111  5.871111e+08\n",
      "2025-01-10        0   5.768561  5.768561e+08\n",
      "2025-02-04        0  -5.201766  5.201766e+08\n",
      "2025-01-20        0  -5.201766  5.201766e+08\n",
      "2025-01-22        0  -5.100875  5.100875e+08\n",
      "2025-01-18        0   5.058840  5.058840e+08\n"
     ]
    }
   ],
   "source": [
    "epsilon = 1e-6\n",
    "\n",
    "df = pd.DataFrame({\n",
    "    'y1_test': y1_test,\n",
    "    'y1_pred': y1_pred,\n",
    "})\n",
    "\n",
    "df['mape'] = mape = np.abs((df['y1_test'] - df['y1_pred']) / (df['y1_test'] + epsilon)) * 100\n",
    "\n",
    "# Ordenar el DataFrame por MAPE de forma descendente\n",
    "df_sorted = df.sort_values(by='mape', ascending=False)\n",
    "print(df_sorted[:20])"
   ]
  },
  {
   "cell_type": "code",
   "execution_count": null,
   "metadata": {
    "colab": {
     "base_uri": "https://localhost:8080/"
    },
    "executionInfo": {
     "elapsed": 67,
     "status": "ok",
     "timestamp": 1742007480740,
     "user": {
      "displayName": "María Soledad Murias Palomer",
      "userId": "08750477303248371468"
     },
     "user_tz": 180
    },
    "id": "Xi0PKR5RuoZW",
    "outputId": "0b19effa-24ce-4fa2-8d67-e643d01a60b9"
   },
   "outputs": [
    {
     "name": "stdout",
     "output_type": "stream",
     "text": [
      "MASE: 0.0039\n",
      "WAPE: 40.7277%\n"
     ]
    }
   ],
   "source": [
    "m = 1\n",
    "\n",
    "# Numerador: Error absoluto del modelo\n",
    "error_modelo = np.abs(y1_test - y1_pred)\n",
    "\n",
    "# Denominador: Error absoluto del modelo naive (referencia), usando el valor del periodo anterior\n",
    "error_referencia = np.abs(y1_test[m:] - y1_test[:-m])\n",
    "\n",
    "# Calcular MASE (Media de los errores absolutos del modelo, escalados por el error de referencia)\n",
    "mase = error_modelo[m:].sum() / error_referencia.sum()\n",
    "\n",
    "print(f\"MASE: {mase:,.4f}\")\n",
    "\n",
    "# Calcular WAPE (error absoluto ponderado)\n",
    "error_absoluto = np.abs(y1_test - y1_pred)  # Error absoluto\n",
    "suma_y_test = np.abs(y1_test).sum()  # Suma de los valores reales\n",
    "\n",
    "# WAPE es el error absoluto total dividido por la suma de los valores reales\n",
    "wape = (error_absoluto.sum() / suma_y_test) * 100\n",
    "\n",
    "print(f\"WAPE: {wape:,.4f}%\")"
   ]
  },
  {
   "cell_type": "code",
   "execution_count": null,
   "metadata": {
    "colab": {
     "base_uri": "https://localhost:8080/",
     "height": 545
    },
    "executionInfo": {
     "elapsed": 297,
     "status": "ok",
     "timestamp": 1742008203351,
     "user": {
      "displayName": "María Soledad Murias Palomer",
      "userId": "08750477303248371468"
     },
     "user_tz": 180
    },
    "id": "5BTCwTFg7rlk",
    "outputId": "3d3f7bad-6c51-41ff-aef5-7cf08d24c7da"
   },
   "outputs": [
    {
     "data": {
      "image/png": "[encoded data removed]",
      "text/plain": [
       "<Figure size 1200x600 with 1 Axes>"
      ]
     },
     "metadata": {},
     "output_type": "display_data"
    }
   ],
   "source": [
    "# Graficar predicción y datos reales\n",
    "plt.figure(figsize=(12, 6))\n",
    "plt.plot(y1_test[-30:].values, label='Valores reales', color='#1f77b4')\n",
    "plt.plot(y1_pred[-30:], label='Predicción XGBoost', color='#ff7f0e', linestyle='dashed')\n",
    "plt.title('Comparación datos históricos y predicción realizada con XGBoost')\n",
    "plt.ylabel('Unidades')\n",
    "plt.legend()\n",
    "plt.show()"
   ]
  },
  {
   "cell_type": "code",
   "execution_count": null,
   "metadata": {
    "id": "eQfSb_aJ7rlk"
   },
   "outputs": [],
   "source": [
    "model.save_model(\"xgboost_model.json\")"
   ]
  }
 ],
 "metadata": {
  "accelerator": "GPU",
  "colab": {
   "gpuType": "T4",
   "provenance": []
  },
  "kernelspec": {
   "display_name": "Python 3 (ipykernel)",
   "language": "python",
   "name": "python3"
  },
  "language_info": {
   "codemirror_mode": {
    "name": "ipython",
    "version": 3
   },
   "file_extension": ".py",
   "mimetype": "text/x-python",
   "name": "python",
   "nbconvert_exporter": "python",
   "pygments_lexer": "ipython3",
   "version": "3.11.7"
  }
 },
 "nbformat": 4,
 "nbformat_minor": 4
}
